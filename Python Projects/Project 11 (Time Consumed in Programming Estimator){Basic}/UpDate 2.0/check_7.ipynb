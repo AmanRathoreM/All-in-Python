{
 "cells": [
  {
   "cell_type": "code",
   "execution_count": 1,
   "metadata": {},
   "outputs": [],
   "source": [
    "import pandas as pd"
   ]
  },
  {
   "cell_type": "code",
   "execution_count": 2,
   "metadata": {},
   "outputs": [
    {
     "data": {
      "text/html": [
       "<div>\n",
       "<style scoped>\n",
       "    .dataframe tbody tr th:only-of-type {\n",
       "        vertical-align: middle;\n",
       "    }\n",
       "\n",
       "    .dataframe tbody tr th {\n",
       "        vertical-align: top;\n",
       "    }\n",
       "\n",
       "    .dataframe thead th {\n",
       "        text-align: right;\n",
       "    }\n",
       "</style>\n",
       "<table border=\"1\" class=\"dataframe\">\n",
       "  <thead>\n",
       "    <tr style=\"text-align: right;\">\n",
       "      <th></th>\n",
       "      <th>Year</th>\n",
       "      <th>Month</th>\n",
       "      <th>Day</th>\n",
       "      <th>Date</th>\n",
       "      <th>Proper Date</th>\n",
       "      <th>Time</th>\n",
       "      <th>Unix Time</th>\n",
       "      <th>Epoch time(tm_year)</th>\n",
       "      <th>Epoch time(tm_mon)</th>\n",
       "      <th>Epoch time(tm_mday)</th>\n",
       "      <th>Epoch time(tm_hour)</th>\n",
       "      <th>Epoch time(tm_min)</th>\n",
       "      <th>Epoch time(tm_sec)</th>\n",
       "      <th>Epoch time(tm_wday)</th>\n",
       "      <th>Epoch time(tm_yday)</th>\n",
       "      <th>Epoch time(tm_isdst)</th>\n",
       "      <th>Time Zone</th>\n",
       "      <th>Time Zone Name</th>\n",
       "      <th>Type (Starting or Ending)</th>\n",
       "    </tr>\n",
       "  </thead>\n",
       "  <tbody>\n",
       "    <tr>\n",
       "      <th>0</th>\n",
       "      <td>2021</td>\n",
       "      <td>October</td>\n",
       "      <td>Wednesday</td>\n",
       "      <td>6</td>\n",
       "      <td>06:10:2021</td>\n",
       "      <td>15:58:13</td>\n",
       "      <td>1.633516e+09</td>\n",
       "      <td>1970</td>\n",
       "      <td>1</td>\n",
       "      <td>1</td>\n",
       "      <td>0</td>\n",
       "      <td>0</td>\n",
       "      <td>0</td>\n",
       "      <td>3</td>\n",
       "      <td>1</td>\n",
       "      <td>0</td>\n",
       "      <td>530</td>\n",
       "      <td>India Standard Time</td>\n",
       "      <td>None</td>\n",
       "    </tr>\n",
       "  </tbody>\n",
       "</table>\n",
       "</div>"
      ],
      "text/plain": [
       "   Year    Month        Day  Date Proper Date      Time     Unix Time  \\\n",
       "0  2021  October  Wednesday     6  06:10:2021  15:58:13  1.633516e+09   \n",
       "\n",
       "   Epoch time(tm_year)  Epoch time(tm_mon)  Epoch time(tm_mday)  \\\n",
       "0                 1970                   1                    1   \n",
       "\n",
       "   Epoch time(tm_hour)  Epoch time(tm_min)  Epoch time(tm_sec)  \\\n",
       "0                    0                   0                   0   \n",
       "\n",
       "   Epoch time(tm_wday)  Epoch time(tm_yday)  Epoch time(tm_isdst)  Time Zone  \\\n",
       "0                    3                    1                     0        530   \n",
       "\n",
       "         Time Zone Name Type (Starting or Ending)  \n",
       "0   India Standard Time                      None  "
      ]
     },
     "execution_count": 2,
     "metadata": {},
     "output_type": "execute_result"
    }
   ],
   "source": [
    "check5 = pd.read_csv(\"check5.csv\")\n",
    "check5"
   ]
  },
  {
   "cell_type": "code",
   "execution_count": 3,
   "metadata": {},
   "outputs": [
    {
     "data": {
      "text/html": [
       "<div>\n",
       "<style scoped>\n",
       "    .dataframe tbody tr th:only-of-type {\n",
       "        vertical-align: middle;\n",
       "    }\n",
       "\n",
       "    .dataframe tbody tr th {\n",
       "        vertical-align: top;\n",
       "    }\n",
       "\n",
       "    .dataframe thead th {\n",
       "        text-align: right;\n",
       "    }\n",
       "</style>\n",
       "<table border=\"1\" class=\"dataframe\">\n",
       "  <thead>\n",
       "    <tr style=\"text-align: right;\">\n",
       "      <th></th>\n",
       "      <th>Proper Date</th>\n",
       "      <th>Time</th>\n",
       "    </tr>\n",
       "  </thead>\n",
       "  <tbody>\n",
       "    <tr>\n",
       "      <th>30</th>\n",
       "      <td>06:10:2021</td>\n",
       "      <td>17:14:44</td>\n",
       "    </tr>\n",
       "    <tr>\n",
       "      <th>31</th>\n",
       "      <td>06:10:2021</td>\n",
       "      <td>17:14:48</td>\n",
       "    </tr>\n",
       "  </tbody>\n",
       "</table>\n",
       "</div>"
      ],
      "text/plain": [
       "   Proper Date      Time\n",
       "30  06:10:2021  17:14:44\n",
       "31  06:10:2021  17:14:48"
      ]
     },
     "execution_count": 3,
     "metadata": {},
     "output_type": "execute_result"
    }
   ],
   "source": [
    "main_csv = pd.read_csv(\"anylasis_of_time_consumed_in_programming.csv\",usecols=[\"Proper Date\",\"Time\"]).tail(2)\n",
    "main_csv"
   ]
  },
  {
   "cell_type": "code",
   "execution_count": 4,
   "metadata": {},
   "outputs": [
    {
     "name": "stdout",
     "output_type": "stream",
     "text": [
      "<class 'pandas.core.frame.DataFrame'>\n",
      "RangeIndex: 2 entries, 30 to 31\n",
      "Data columns (total 2 columns):\n",
      " #   Column       Non-Null Count  Dtype \n",
      "---  ------       --------------  ----- \n",
      " 0   Proper Date  2 non-null      object\n",
      " 1   Time         2 non-null      object\n",
      "dtypes: object(2)\n",
      "memory usage: 164.0+ bytes\n"
     ]
    }
   ],
   "source": [
    "main_csv.info()"
   ]
  },
  {
   "cell_type": "code",
   "execution_count": 5,
   "metadata": {},
   "outputs": [],
   "source": [
    "programming_started = main_csv.iat[-1,1]\n",
    "Last_time_ended_programming_date =  main_csv.iat[-1,0]\n",
    "Last_time_ended_programming_time = main_csv.iat[-1,1]"
   ]
  },
  {
   "cell_type": "code",
   "execution_count": 6,
   "metadata": {},
   "outputs": [
    {
     "name": "stdout",
     "output_type": "stream",
     "text": [
      "17:14:48\n",
      "06:10:2021\n"
     ]
    }
   ],
   "source": [
    "print(programming_started)\n",
    "print(Last_time_ended_programming_date)"
   ]
  },
  {
   "cell_type": "code",
   "execution_count": 7,
   "metadata": {},
   "outputs": [],
   "source": [
    "programming_done_for_how_much_time =  1"
   ]
  },
  {
   "cell_type": "code",
   "execution_count": 8,
   "metadata": {},
   "outputs": [
    {
     "name": "stdout",
     "output_type": "stream",
     "text": [
      "17:14:44\n",
      "17:14:48\n"
     ]
    }
   ],
   "source": [
    "time_started=main_csv.iat[-2,1]\n",
    "time_ended=main_csv.iat[-1,1]\n",
    "\n",
    "print(time_started)\n",
    "print(time_ended)"
   ]
  },
  {
   "cell_type": "code",
   "execution_count": 9,
   "metadata": {},
   "outputs": [],
   "source": [
    "from datetime import datetime\n",
    "programming_done_for_how_much_time = str(datetime.strptime(main_csv.iat[-1,1], \"%H:%M:%S\") - datetime.strptime(main_csv.iat[-2,1], \"%H:%M:%S\"))"
   ]
  },
  {
   "cell_type": "code",
   "execution_count": 10,
   "metadata": {},
   "outputs": [
    {
     "data": {
      "text/plain": [
       "'0:00:04'"
      ]
     },
     "execution_count": 10,
     "metadata": {},
     "output_type": "execute_result"
    }
   ],
   "source": [
    "programming_done_for_how_much_time"
   ]
  },
  {
   "cell_type": "code",
   "execution_count": 11,
   "metadata": {},
   "outputs": [
    {
     "data": {
      "text/html": [
       "<div>\n",
       "<style scoped>\n",
       "    .dataframe tbody tr th:only-of-type {\n",
       "        vertical-align: middle;\n",
       "    }\n",
       "\n",
       "    .dataframe tbody tr th {\n",
       "        vertical-align: top;\n",
       "    }\n",
       "\n",
       "    .dataframe thead th {\n",
       "        text-align: right;\n",
       "    }\n",
       "</style>\n",
       "<table border=\"1\" class=\"dataframe\">\n",
       "  <thead>\n",
       "    <tr style=\"text-align: right;\">\n",
       "      <th></th>\n",
       "      <th>Proper Date</th>\n",
       "      <th>Time</th>\n",
       "    </tr>\n",
       "    <tr>\n",
       "      <th>Type (Starting or Ending)</th>\n",
       "      <th></th>\n",
       "      <th></th>\n",
       "    </tr>\n",
       "  </thead>\n",
       "  <tbody>\n",
       "    <tr>\n",
       "      <th>Ending</th>\n",
       "      <td>06:10:2021</td>\n",
       "      <td>17:04:20</td>\n",
       "    </tr>\n",
       "    <tr>\n",
       "      <th>Starting</th>\n",
       "      <td>06:10:2021</td>\n",
       "      <td>17:14:24</td>\n",
       "    </tr>\n",
       "    <tr>\n",
       "      <th>Ending</th>\n",
       "      <td>06:10:2021</td>\n",
       "      <td>17:14:31</td>\n",
       "    </tr>\n",
       "    <tr>\n",
       "      <th>Starting</th>\n",
       "      <td>06:10:2021</td>\n",
       "      <td>17:14:44</td>\n",
       "    </tr>\n",
       "    <tr>\n",
       "      <th>Ending</th>\n",
       "      <td>06:10:2021</td>\n",
       "      <td>17:14:48</td>\n",
       "    </tr>\n",
       "  </tbody>\n",
       "</table>\n",
       "</div>"
      ],
      "text/plain": [
       "                          Proper Date      Time\n",
       "Type (Starting or Ending)                      \n",
       " Ending                    06:10:2021  17:04:20\n",
       " Starting                  06:10:2021  17:14:24\n",
       " Ending                    06:10:2021  17:14:31\n",
       " Starting                  06:10:2021  17:14:44\n",
       " Ending                    06:10:2021  17:14:48"
      ]
     },
     "execution_count": 11,
     "metadata": {},
     "output_type": "execute_result"
    }
   ],
   "source": [
    "main_csv = pd.read_csv(\"anylasis_of_time_consumed_in_programming.csv\",\n",
    "                       usecols=[\"Proper Date\",\"Time\",\"Type (Starting or Ending)\"],\n",
    "                       index_col=[2]).tail()\n",
    "main_csv"
   ]
  },
  {
   "cell_type": "code",
   "execution_count": null,
   "metadata": {},
   "outputs": [],
   "source": []
  }
 ],
 "metadata": {
  "kernelspec": {
   "display_name": "Python 3",
   "language": "python",
   "name": "python3"
  },
  "language_info": {
   "codemirror_mode": {
    "name": "ipython",
    "version": 3
   },
   "file_extension": ".py",
   "mimetype": "text/x-python",
   "name": "python",
   "nbconvert_exporter": "python",
   "pygments_lexer": "ipython3",
   "version": "3.8.5"
  }
 },
 "nbformat": 4,
 "nbformat_minor": 4
}
