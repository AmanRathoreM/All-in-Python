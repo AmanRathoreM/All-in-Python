{
 "cells": [
  {
   "cell_type": "code",
   "execution_count": 1,
   "metadata": {},
   "outputs": [],
   "source": [
    "import numpy as np"
   ]
  },
  {
   "cell_type": "code",
   "execution_count": 2,
   "metadata": {},
   "outputs": [],
   "source": [
    "arr1=np.arange(100)+1"
   ]
  },
  {
   "cell_type": "code",
   "execution_count": 3,
   "metadata": {},
   "outputs": [
    {
     "name": "stdout",
     "output_type": "stream",
     "text": [
      "Arrray 1 dimension is 1\n",
      "Arrray 1 shape is (100,)\n"
     ]
    },
    {
     "data": {
      "text/plain": [
       "array([  1,   2,   3,   4,   5,   6,   7,   8,   9,  10,  11,  12,  13,\n",
       "        14,  15,  16,  17,  18,  19,  20,  21,  22,  23,  24,  25,  26,\n",
       "        27,  28,  29,  30,  31,  32,  33,  34,  35,  36,  37,  38,  39,\n",
       "        40,  41,  42,  43,  44,  45,  46,  47,  48,  49,  50,  51,  52,\n",
       "        53,  54,  55,  56,  57,  58,  59,  60,  61,  62,  63,  64,  65,\n",
       "        66,  67,  68,  69,  70,  71,  72,  73,  74,  75,  76,  77,  78,\n",
       "        79,  80,  81,  82,  83,  84,  85,  86,  87,  88,  89,  90,  91,\n",
       "        92,  93,  94,  95,  96,  97,  98,  99, 100])"
      ]
     },
     "execution_count": 3,
     "metadata": {},
     "output_type": "execute_result"
    }
   ],
   "source": [
    "print('Arrray 1 dimension is',np.ndim(arr1))\n",
    "print('Arrray 1 shape is',np.shape(arr1))\n",
    "arr1"
   ]
  },
  {
   "cell_type": "code",
   "execution_count": 4,
   "metadata": {},
   "outputs": [],
   "source": [
    "arr1=arr1.reshape(25,4)"
   ]
  },
  {
   "cell_type": "code",
   "execution_count": 5,
   "metadata": {},
   "outputs": [
    {
     "name": "stdout",
     "output_type": "stream",
     "text": [
      "Now Arrray 1 dimension is 2\n",
      "Now Arrray 1 shape is (25, 4)\n"
     ]
    },
    {
     "data": {
      "text/plain": [
       "array([[  1,   2,   3,   4],\n",
       "       [  5,   6,   7,   8],\n",
       "       [  9,  10,  11,  12],\n",
       "       [ 13,  14,  15,  16],\n",
       "       [ 17,  18,  19,  20],\n",
       "       [ 21,  22,  23,  24],\n",
       "       [ 25,  26,  27,  28],\n",
       "       [ 29,  30,  31,  32],\n",
       "       [ 33,  34,  35,  36],\n",
       "       [ 37,  38,  39,  40],\n",
       "       [ 41,  42,  43,  44],\n",
       "       [ 45,  46,  47,  48],\n",
       "       [ 49,  50,  51,  52],\n",
       "       [ 53,  54,  55,  56],\n",
       "       [ 57,  58,  59,  60],\n",
       "       [ 61,  62,  63,  64],\n",
       "       [ 65,  66,  67,  68],\n",
       "       [ 69,  70,  71,  72],\n",
       "       [ 73,  74,  75,  76],\n",
       "       [ 77,  78,  79,  80],\n",
       "       [ 81,  82,  83,  84],\n",
       "       [ 85,  86,  87,  88],\n",
       "       [ 89,  90,  91,  92],\n",
       "       [ 93,  94,  95,  96],\n",
       "       [ 97,  98,  99, 100]])"
      ]
     },
     "execution_count": 5,
     "metadata": {},
     "output_type": "execute_result"
    }
   ],
   "source": [
    "print('Now Arrray 1 dimension is',np.ndim(arr1))\n",
    "print('Now Arrray 1 shape is',np.shape(arr1))\n",
    "arr1"
   ]
  },
  {
   "cell_type": "code",
   "execution_count": 6,
   "metadata": {},
   "outputs": [],
   "source": [
    "arr1=arr1.reshape(5,2,10)"
   ]
  },
  {
   "cell_type": "code",
   "execution_count": 7,
   "metadata": {},
   "outputs": [
    {
     "name": "stdout",
     "output_type": "stream",
     "text": [
      "Now Arrray 1 dimension is 3\n",
      "Now Arrray 1 shape is (5, 2, 10)\n"
     ]
    },
    {
     "data": {
      "text/plain": [
       "array([[[  1,   2,   3,   4,   5,   6,   7,   8,   9,  10],\n",
       "        [ 11,  12,  13,  14,  15,  16,  17,  18,  19,  20]],\n",
       "\n",
       "       [[ 21,  22,  23,  24,  25,  26,  27,  28,  29,  30],\n",
       "        [ 31,  32,  33,  34,  35,  36,  37,  38,  39,  40]],\n",
       "\n",
       "       [[ 41,  42,  43,  44,  45,  46,  47,  48,  49,  50],\n",
       "        [ 51,  52,  53,  54,  55,  56,  57,  58,  59,  60]],\n",
       "\n",
       "       [[ 61,  62,  63,  64,  65,  66,  67,  68,  69,  70],\n",
       "        [ 71,  72,  73,  74,  75,  76,  77,  78,  79,  80]],\n",
       "\n",
       "       [[ 81,  82,  83,  84,  85,  86,  87,  88,  89,  90],\n",
       "        [ 91,  92,  93,  94,  95,  96,  97,  98,  99, 100]]])"
      ]
     },
     "execution_count": 7,
     "metadata": {},
     "output_type": "execute_result"
    }
   ],
   "source": [
    "print('Now Arrray 1 dimension is',np.ndim(arr1))\n",
    "print('Now Arrray 1 shape is',np.shape(arr1))\n",
    "arr1"
   ]
  },
  {
   "cell_type": "code",
   "execution_count": 8,
   "metadata": {},
   "outputs": [],
   "source": [
    "arr1=arr1.reshape(100)"
   ]
  },
  {
   "cell_type": "code",
   "execution_count": 9,
   "metadata": {},
   "outputs": [
    {
     "name": "stdout",
     "output_type": "stream",
     "text": [
      "Now Arrray 1 dimension is 1\n",
      "Now Arrray 1 shape is (100,)\n"
     ]
    },
    {
     "data": {
      "text/plain": [
       "array([  1,   2,   3,   4,   5,   6,   7,   8,   9,  10,  11,  12,  13,\n",
       "        14,  15,  16,  17,  18,  19,  20,  21,  22,  23,  24,  25,  26,\n",
       "        27,  28,  29,  30,  31,  32,  33,  34,  35,  36,  37,  38,  39,\n",
       "        40,  41,  42,  43,  44,  45,  46,  47,  48,  49,  50,  51,  52,\n",
       "        53,  54,  55,  56,  57,  58,  59,  60,  61,  62,  63,  64,  65,\n",
       "        66,  67,  68,  69,  70,  71,  72,  73,  74,  75,  76,  77,  78,\n",
       "        79,  80,  81,  82,  83,  84,  85,  86,  87,  88,  89,  90,  91,\n",
       "        92,  93,  94,  95,  96,  97,  98,  99, 100])"
      ]
     },
     "execution_count": 9,
     "metadata": {},
     "output_type": "execute_result"
    }
   ],
   "source": [
    "print('Now Arrray 1 dimension is',np.ndim(arr1))\n",
    "print('Now Arrray 1 shape is',np.shape(arr1))\n",
    "arr1"
   ]
  },
  {
   "cell_type": "markdown",
   "metadata": {},
   "source": [
    "# Concept of -ve reshape"
   ]
  },
  {
   "cell_type": "code",
   "execution_count": 13,
   "metadata": {},
   "outputs": [],
   "source": [
    "arr1=arr1.reshape(-1,4)"
   ]
  },
  {
   "cell_type": "code",
   "execution_count": 14,
   "metadata": {},
   "outputs": [
    {
     "name": "stdout",
     "output_type": "stream",
     "text": [
      "Now Arrray 1 dimension is 2\n",
      "Now Arrray 1 shape is (25, 4)\n"
     ]
    },
    {
     "data": {
      "text/plain": [
       "array([[  1,   2,   3,   4],\n",
       "       [  5,   6,   7,   8],\n",
       "       [  9,  10,  11,  12],\n",
       "       [ 13,  14,  15,  16],\n",
       "       [ 17,  18,  19,  20],\n",
       "       [ 21,  22,  23,  24],\n",
       "       [ 25,  26,  27,  28],\n",
       "       [ 29,  30,  31,  32],\n",
       "       [ 33,  34,  35,  36],\n",
       "       [ 37,  38,  39,  40],\n",
       "       [ 41,  42,  43,  44],\n",
       "       [ 45,  46,  47,  48],\n",
       "       [ 49,  50,  51,  52],\n",
       "       [ 53,  54,  55,  56],\n",
       "       [ 57,  58,  59,  60],\n",
       "       [ 61,  62,  63,  64],\n",
       "       [ 65,  66,  67,  68],\n",
       "       [ 69,  70,  71,  72],\n",
       "       [ 73,  74,  75,  76],\n",
       "       [ 77,  78,  79,  80],\n",
       "       [ 81,  82,  83,  84],\n",
       "       [ 85,  86,  87,  88],\n",
       "       [ 89,  90,  91,  92],\n",
       "       [ 93,  94,  95,  96],\n",
       "       [ 97,  98,  99, 100]])"
      ]
     },
     "execution_count": 14,
     "metadata": {},
     "output_type": "execute_result"
    }
   ],
   "source": [
    "print('Now Arrray 1 dimension is',np.ndim(arr1))\n",
    "print('Now Arrray 1 shape is',np.shape(arr1))\n",
    "arr1"
   ]
  },
  {
   "cell_type": "code",
   "execution_count": 16,
   "metadata": {},
   "outputs": [],
   "source": [
    "arr1=arr1.reshape(2,-1)"
   ]
  },
  {
   "cell_type": "code",
   "execution_count": 17,
   "metadata": {},
   "outputs": [
    {
     "name": "stdout",
     "output_type": "stream",
     "text": [
      "Now Arrray 1 dimension is 2\n",
      "Now Arrray 1 shape is (2, 50)\n"
     ]
    },
    {
     "data": {
      "text/plain": [
       "array([[  1,   2,   3,   4,   5,   6,   7,   8,   9,  10,  11,  12,  13,\n",
       "         14,  15,  16,  17,  18,  19,  20,  21,  22,  23,  24,  25,  26,\n",
       "         27,  28,  29,  30,  31,  32,  33,  34,  35,  36,  37,  38,  39,\n",
       "         40,  41,  42,  43,  44,  45,  46,  47,  48,  49,  50],\n",
       "       [ 51,  52,  53,  54,  55,  56,  57,  58,  59,  60,  61,  62,  63,\n",
       "         64,  65,  66,  67,  68,  69,  70,  71,  72,  73,  74,  75,  76,\n",
       "         77,  78,  79,  80,  81,  82,  83,  84,  85,  86,  87,  88,  89,\n",
       "         90,  91,  92,  93,  94,  95,  96,  97,  98,  99, 100]])"
      ]
     },
     "execution_count": 17,
     "metadata": {},
     "output_type": "execute_result"
    }
   ],
   "source": [
    "print('Now Arrray 1 dimension is',np.ndim(arr1))\n",
    "print('Now Arrray 1 shape is',np.shape(arr1))\n",
    "arr1"
   ]
  },
  {
   "cell_type": "code",
   "execution_count": null,
   "metadata": {},
   "outputs": [],
   "source": []
  }
 ],
 "metadata": {
  "kernelspec": {
   "display_name": "Python 3",
   "language": "python",
   "name": "python3"
  },
  "language_info": {
   "codemirror_mode": {
    "name": "ipython",
    "version": 3
   },
   "file_extension": ".py",
   "mimetype": "text/x-python",
   "name": "python",
   "nbconvert_exporter": "python",
   "pygments_lexer": "ipython3",
   "version": "3.8.5"
  }
 },
 "nbformat": 4,
 "nbformat_minor": 4
}
