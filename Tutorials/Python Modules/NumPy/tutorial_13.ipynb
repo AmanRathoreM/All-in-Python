{
 "cells": [
  {
   "cell_type": "markdown",
   "metadata": {},
   "source": [
    "# Conditional Selection"
   ]
  },
  {
   "cell_type": "code",
   "execution_count": 1,
   "metadata": {},
   "outputs": [],
   "source": [
    "import numpy as np"
   ]
  },
  {
   "cell_type": "code",
   "execution_count": 2,
   "metadata": {},
   "outputs": [
    {
     "data": {
      "text/plain": [
       "array([75, 14, 97, 89, 58,  0, 19, 71,  6, 55, 25,  9, 95, 81,  1, 39, 42,\n",
       "       54, 71, 55, 19, 52,  4, 91,  9, 63, 40, 88, 76, 48, 96, 10, 41, 25,\n",
       "       43,  6, 83, 52, 60, 90, 48, 46, 70, 98, 95, 12, 32,  4, 18,  4, 29,\n",
       "       52, 21, 86, 75, 33, 62,  8, 31, 56, 78, 49, 33, 18, 35, 85, 10, 44,\n",
       "       66,  5, 52, 55, 40, 49, 82, 58, 71, 48, 56, 27, 40, 41, 56, 81, 10,\n",
       "       23, 70, 59, 54, 35, 59,  0, 63, 60, 55, 58, 78, 89, 87, 95])"
      ]
     },
     "execution_count": 2,
     "metadata": {},
     "output_type": "execute_result"
    }
   ],
   "source": [
    "arr1=np.random.randint(0,99,100)\n",
    "arr1"
   ]
  },
  {
   "cell_type": "code",
   "execution_count": 3,
   "metadata": {},
   "outputs": [
    {
     "data": {
      "text/plain": [
       "array([ True, False,  True,  True, False, False, False,  True, False,\n",
       "       False, False, False,  True,  True, False, False, False, False,\n",
       "        True, False, False, False, False,  True, False,  True, False,\n",
       "        True,  True, False,  True, False, False, False, False, False,\n",
       "        True, False, False,  True, False, False,  True,  True,  True,\n",
       "       False, False, False, False, False, False, False, False,  True,\n",
       "        True, False,  True, False, False, False,  True, False, False,\n",
       "       False, False,  True, False, False,  True, False, False, False,\n",
       "       False, False,  True, False,  True, False, False, False, False,\n",
       "       False, False,  True, False, False,  True, False, False, False,\n",
       "       False, False,  True, False, False, False,  True,  True,  True,\n",
       "        True])"
      ]
     },
     "execution_count": 3,
     "metadata": {},
     "output_type": "execute_result"
    }
   ],
   "source": [
    "arr1>60"
   ]
  },
  {
   "cell_type": "code",
   "execution_count": 4,
   "metadata": {},
   "outputs": [
    {
     "data": {
      "text/plain": [
       "array([97, 95, 91, 96, 98, 95, 95])"
      ]
     },
     "execution_count": 4,
     "metadata": {},
     "output_type": "execute_result"
    }
   ],
   "source": [
    "arr1[arr1>90]"
   ]
  },
  {
   "cell_type": "code",
   "execution_count": 5,
   "metadata": {},
   "outputs": [
    {
     "data": {
      "text/plain": [
       "array([14,  0, 42, 91, 63, 70, 98, 21, 56, 49, 35, 49, 56, 56, 70, 35,  0,\n",
       "       63])"
      ]
     },
     "execution_count": 5,
     "metadata": {},
     "output_type": "execute_result"
    }
   ],
   "source": [
    "arr1[arr1%7==0]"
   ]
  },
  {
   "cell_type": "code",
   "execution_count": 6,
   "metadata": {},
   "outputs": [
    {
     "data": {
      "text/plain": [
       "array([89,  1, 12, 56, 78, 56, 56, 23, 78, 89])"
      ]
     },
     "execution_count": 6,
     "metadata": {},
     "output_type": "execute_result"
    }
   ],
   "source": [
    "arr1[arr1%11==1]"
   ]
  },
  {
   "cell_type": "code",
   "execution_count": 7,
   "metadata": {},
   "outputs": [
    {
     "data": {
      "text/plain": [
       "array([75, 28, 97, 89, 58,  0, 38, 71, 12, 55, 50, 18, 95, 81,  2, 78, 84,\n",
       "       54, 71, 55, 38, 52,  8, 91, 18, 63, 80, 88, 76, 96, 96, 20, 82, 50,\n",
       "       86, 12, 83, 52, 60, 90, 96, 92, 70, 98, 95, 24, 64,  8, 36,  8, 58,\n",
       "       52, 42, 86, 75, 66, 62, 16, 62, 56, 78, 98, 66, 36, 70, 85, 20, 88,\n",
       "       66, 10, 52, 55, 80, 98, 82, 58, 71, 96, 56, 54, 80, 82, 56, 81, 20,\n",
       "       46, 70, 59, 54, 70, 59,  0, 63, 60, 55, 58, 78, 89, 87, 95])"
      ]
     },
     "execution_count": 7,
     "metadata": {},
     "output_type": "execute_result"
    }
   ],
   "source": [
    "arr1[arr1<50]*=2\n",
    "arr1"
   ]
  }
 ],
 "metadata": {
  "kernelspec": {
   "display_name": "Python 3",
   "language": "python",
   "name": "python3"
  },
  "language_info": {
   "codemirror_mode": {
    "name": "ipython",
    "version": 3
   },
   "file_extension": ".py",
   "mimetype": "text/x-python",
   "name": "python",
   "nbconvert_exporter": "python",
   "pygments_lexer": "ipython3",
   "version": "3.8.5"
  }
 },
 "nbformat": 4,
 "nbformat_minor": 4
}
