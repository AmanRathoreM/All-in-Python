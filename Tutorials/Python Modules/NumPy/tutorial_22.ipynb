{
 "cells": [
  {
   "cell_type": "markdown",
   "metadata": {},
   "source": [
    "# Searching in NumPy Array"
   ]
  },
  {
   "cell_type": "code",
   "execution_count": 1,
   "metadata": {},
   "outputs": [],
   "source": [
    "import numpy as np"
   ]
  },
  {
   "cell_type": "code",
   "execution_count": 2,
   "metadata": {},
   "outputs": [
    {
     "data": {
      "text/plain": [
       "array([82, 74, 65, 29,  3, 34, 22, 64, 83, 60, 13,  0, 26,  8, 54, 23, 86,\n",
       "       52, 30, 96, 89, 48, 55, 11, 97, 88, 51, 58, 70, 66, 76, 50, 79, 38,\n",
       "       62, 87, 90, 99, 21, 37, 93, 36, 17, 80, 18, 69, 67, 35, 85, 53,  2,\n",
       "       43, 28, 95, 81, 47, 39, 71, 78, 20, 77, 45,  4, 10, 59, 44, 72, 57,\n",
       "        1,  6, 24,  9, 68, 15, 49, 31, 91, 63, 42, 33, 25, 75, 27, 56, 12,\n",
       "       14, 84, 40,  5, 46,  7, 61, 94, 41, 92, 19, 73, 16, 98, 32])"
      ]
     },
     "execution_count": 2,
     "metadata": {},
     "output_type": "execute_result"
    }
   ],
   "source": [
    "arr1=np.arange(0,100)\n",
    "np.random.shuffle(arr1)\n",
    "arr1"
   ]
  },
  {
   "cell_type": "code",
   "execution_count": 3,
   "metadata": {},
   "outputs": [
    {
     "data": {
      "text/plain": [
       "array([ 82,  74,  65,  79,  53,  84,  72,  64,  83,  60,  63,  50,  76,\n",
       "        58,  54,  73,  86,  52,  80,  96,  89,  98,  55,  61,  97,  88,\n",
       "        51,  58,  70,  66,  76, 100,  79,  88,  62,  87,  90,  99,  71,\n",
       "        87,  93,  86,  67,  80,  68,  69,  67,  85,  85,  53,  52,  93,\n",
       "        78,  95,  81,  97,  89,  71,  78,  70,  77,  95,  54,  60,  59,\n",
       "        94,  72,  57,  51,  56,  74,  59,  68,  65,  99,  81,  91,  63,\n",
       "        92,  83,  75,  75,  77,  56,  62,  64,  84,  90,  55,  96,  57,\n",
       "        61,  94,  91,  92,  69,  73,  66,  98,  82])"
      ]
     },
     "execution_count": 3,
     "metadata": {},
     "output_type": "execute_result"
    }
   ],
   "source": [
    "np.where(arr1>50,arr1,arr1+50)"
   ]
  },
  {
   "cell_type": "code",
   "execution_count": 4,
   "metadata": {},
   "outputs": [
    {
     "data": {
      "text/plain": [
       "array([ -18,  -26,  -35,  -71,  -97,  -66,  -78,  -36,  -17,  -40,  -87,\n",
       "       -100,  -74,  -92,  -46,  -77,  -14,  -48,  -70,   -4,  -11,  -52,\n",
       "        -45,  -89,   -3,  -12,  -49,  -42,  -30,  -34,  -24,  -50,  -21,\n",
       "        -62,  -38,  -13,  -10,   -1,  -79,  -63,   -7,  -64,  -83,  -20,\n",
       "        -82,  -31,  -33,  -65,  -15,  -47,  -98,  -57,  -72,   -5,  -19,\n",
       "        -53,  -61,  -29,  -22,  -80,  -23,  -55,  -96,  -90,  -41,  -56,\n",
       "        -28,  -43,  -99,  -94,  -76,  -91,  -32,  -85,  -51,  -69,   -9,\n",
       "        -37,  -58,  -67,  -75,  -25,  -73,  -44,  -88,  -86,  -16,  -60,\n",
       "        -95,  -54,  -93,  -39,   -6,  -59,   -8,  -81,  -27,  -84,   -2,\n",
       "        -68])"
      ]
     },
     "execution_count": 4,
     "metadata": {},
     "output_type": "execute_result"
    }
   ],
   "source": [
    "np.where(arr1>100,arr1,arr1-100)"
   ]
  },
  {
   "cell_type": "code",
   "execution_count": null,
   "metadata": {},
   "outputs": [],
   "source": []
  },
  {
   "cell_type": "code",
   "execution_count": null,
   "metadata": {},
   "outputs": [],
   "source": []
  }
 ],
 "metadata": {
  "kernelspec": {
   "display_name": "Python 3",
   "language": "python",
   "name": "python3"
  },
  "language_info": {
   "codemirror_mode": {
    "name": "ipython",
    "version": 3
   },
   "file_extension": ".py",
   "mimetype": "text/x-python",
   "name": "python",
   "nbconvert_exporter": "python",
   "pygments_lexer": "ipython3",
   "version": "3.8.5"
  }
 },
 "nbformat": 4,
 "nbformat_minor": 4
}
