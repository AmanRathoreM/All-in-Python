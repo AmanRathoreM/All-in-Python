{
 "cells": [
  {
   "cell_type": "code",
   "execution_count": 1,
   "metadata": {},
   "outputs": [],
   "source": [
    "import numpy as np"
   ]
  },
  {
   "cell_type": "code",
   "execution_count": 2,
   "metadata": {},
   "outputs": [
    {
     "name": "stdout",
     "output_type": "stream",
     "text": [
      "Please input the number of Rows in your matrix\n",
      "3\n",
      "Please input the number of Columns in your matrix\n",
      "2\n"
     ]
    }
   ],
   "source": [
    "rows=int(input('Please input the number of Rows in your matrix\\n'))\n",
    "cols=int(input('Please input the number of Columns in your matrix\\n'))\n",
    "matrix=np.array([])"
   ]
  },
  {
   "cell_type": "code",
   "execution_count": 3,
   "metadata": {},
   "outputs": [
    {
     "name": "stdout",
     "output_type": "stream",
     "text": [
      "Please enter the number of element number [1][1]\n",
      "1\n",
      "Please enter the number of element number [1][2]\n",
      "2\n",
      "Please enter the number of element number [2][1]\n",
      "3\n",
      "Please enter the number of element number [2][2]\n",
      "4\n",
      "Please enter the number of element number [3][1]\n",
      "5\n",
      "Please enter the number of element number [3][2]\n",
      "6\n"
     ]
    },
    {
     "data": {
      "text/plain": [
       "array([[1., 2.],\n",
       "       [3., 4.],\n",
       "       [5., 6.]])"
      ]
     },
     "execution_count": 3,
     "metadata": {},
     "output_type": "execute_result"
    }
   ],
   "source": [
    "rows_for_loop=1\n",
    "for i in range(rows):\n",
    "    cols_for_loop=1\n",
    "    for j in range(cols):\n",
    "        matrix=np.append(matrix,int(input('Please enter the number of element number ['+str(rows_for_loop)+']['+str(cols_for_loop)+']\\n')))\n",
    "        cols_for_loop+=1\n",
    "    rows_for_loop+=1\n",
    "matrix=matrix.reshape(rows,cols)\n",
    "matrix"
   ]
  },
  {
   "cell_type": "code",
   "execution_count": 4,
   "metadata": {},
   "outputs": [
    {
     "name": "stdout",
     "output_type": "stream",
     "text": [
      "Value of [1][1] is 1.0\n",
      "Value of [1][2] is 2.0\n",
      "Value of [2][1] is 3.0\n",
      "Value of [2][2] is 4.0\n",
      "Value of [3][1] is 5.0\n",
      "Value of [3][2] is 6.0\n"
     ]
    }
   ],
   "source": [
    "rows_for_loop=1\n",
    "for i in range(rows):\n",
    "    cols_for_loop=1\n",
    "    for j in range(cols):\n",
    "        print('Value of ['+str(rows_for_loop)+']['+str(cols_for_loop)+'] is',matrix[i,j],end='\\n')\n",
    "        cols_for_loop+=1\n",
    "    rows_for_loop+=1\n",
    "\n",
    "        \n",
    "    \n",
    "\n",
    "# 'Value of ['+str(rows_for_loop)+']['+str(cols_for_loop)+'] is '+str(int("
   ]
  },
  {
   "cell_type": "code",
   "execution_count": null,
   "metadata": {},
   "outputs": [],
   "source": []
  }
 ],
 "metadata": {
  "kernelspec": {
   "display_name": "Python 3",
   "language": "python",
   "name": "python3"
  },
  "language_info": {
   "codemirror_mode": {
    "name": "ipython",
    "version": 3
   },
   "file_extension": ".py",
   "mimetype": "text/x-python",
   "name": "python",
   "nbconvert_exporter": "python",
   "pygments_lexer": "ipython3",
   "version": "3.8.5"
  }
 },
 "nbformat": 4,
 "nbformat_minor": 4
}
