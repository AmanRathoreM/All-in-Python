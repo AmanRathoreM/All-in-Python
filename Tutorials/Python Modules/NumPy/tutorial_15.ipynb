{
 "cells": [
  {
   "cell_type": "markdown",
   "metadata": {},
   "source": [
    "# Functions in Numpy"
   ]
  },
  {
   "cell_type": "code",
   "execution_count": 1,
   "metadata": {},
   "outputs": [],
   "source": [
    "import numpy as np"
   ]
  },
  {
   "cell_type": "code",
   "execution_count": 2,
   "metadata": {},
   "outputs": [
    {
     "data": {
      "text/plain": [
       "array([896, 689, 327, 565, 412, 104, 527, 940, 226, 621, 799, 842, 946,\n",
       "       876, 740, 448, 695, 788, 229, 416])"
      ]
     },
     "execution_count": 2,
     "metadata": {},
     "output_type": "execute_result"
    }
   ],
   "source": [
    "arr1=np.random.randint(100,999,20)\n",
    "arr1"
   ]
  },
  {
   "cell_type": "code",
   "execution_count": 3,
   "metadata": {},
   "outputs": [
    {
     "data": {
      "text/plain": [
       "104"
      ]
     },
     "execution_count": 3,
     "metadata": {},
     "output_type": "execute_result"
    }
   ],
   "source": [
    "np.min(arr1)"
   ]
  },
  {
   "cell_type": "code",
   "execution_count": 4,
   "metadata": {},
   "outputs": [
    {
     "data": {
      "text/plain": [
       "104"
      ]
     },
     "execution_count": 4,
     "metadata": {},
     "output_type": "execute_result"
    }
   ],
   "source": [
    "np.min(arr1)"
   ]
  },
  {
   "cell_type": "code",
   "execution_count": 5,
   "metadata": {},
   "outputs": [
    {
     "data": {
      "text/plain": [
       "946"
      ]
     },
     "execution_count": 5,
     "metadata": {},
     "output_type": "execute_result"
    }
   ],
   "source": [
    "np.max(arr1)"
   ]
  },
  {
   "cell_type": "code",
   "execution_count": 6,
   "metadata": {},
   "outputs": [
    {
     "data": {
      "text/plain": [
       "5"
      ]
     },
     "execution_count": 6,
     "metadata": {},
     "output_type": "execute_result"
    }
   ],
   "source": [
    "np.argmin(arr1)"
   ]
  },
  {
   "cell_type": "code",
   "execution_count": 7,
   "metadata": {},
   "outputs": [
    {
     "data": {
      "text/plain": [
       "12"
      ]
     },
     "execution_count": 7,
     "metadata": {},
     "output_type": "execute_result"
    }
   ],
   "source": [
    "np.argmax(arr1)"
   ]
  },
  {
   "cell_type": "code",
   "execution_count": 8,
   "metadata": {},
   "outputs": [
    {
     "data": {
      "text/plain": [
       "array([29.93325909, 26.2488095 , 18.08314132, 23.76972865, 20.29778313,\n",
       "       10.19803903, 22.95648057, 30.65941943, 15.03329638, 24.91987159,\n",
       "       28.26658805, 29.01723626, 30.757113  , 29.59729717, 27.20294102,\n",
       "       21.16601049, 26.36285265, 28.0713377 , 15.13274595, 20.39607805])"
      ]
     },
     "execution_count": 8,
     "metadata": {},
     "output_type": "execute_result"
    }
   ],
   "source": [
    "np.sqrt(arr1)"
   ]
  },
  {
   "cell_type": "code",
   "execution_count": 9,
   "metadata": {},
   "outputs": [
    {
     "data": {
      "text/plain": [
       "array([-0.60207208, -0.83668866,  0.27093481, -0.46769187, -0.43619188,\n",
       "       -0.3216224 , -0.70863787, -0.61611169, -0.19344382, -0.86003865,\n",
       "        0.86010016,  0.05314379, -0.37148806,  0.48323878, -0.98802232,\n",
       "        0.94827257, -0.65033364,  0.51392674,  0.32996237,  0.96612555])"
      ]
     },
     "execution_count": 9,
     "metadata": {},
     "output_type": "execute_result"
    }
   ],
   "source": [
    "np.sin(arr1)"
   ]
  },
  {
   "cell_type": "code",
   "execution_count": 10,
   "metadata": {},
   "outputs": [
    {
     "data": {
      "text/plain": [
       "array([-0.79844174, -0.54767882,  0.9625977 ,  0.88389157, -0.89985368,\n",
       "       -0.94686801,  0.70557237, -0.7876588 ,  0.98111135,  0.5102289 ,\n",
       "        0.51012519,  0.99858687, -0.92843773, -0.87548859,  0.15431102,\n",
       "       -0.31745729, -0.75964871, -0.85783408, -0.94399409,  0.25807251])"
      ]
     },
     "execution_count": 10,
     "metadata": {},
     "output_type": "execute_result"
    }
   ],
   "source": [
    "np.cos(arr1)"
   ]
  },
  {
   "cell_type": "code",
   "execution_count": 15,
   "metadata": {},
   "outputs": [
    {
     "data": {
      "text/plain": [
       "array([ 1.  ,  1.98,  2.96,  3.94,  4.92,  5.9 ,  6.88,  7.86,  8.84,\n",
       "        9.82, 10.8 , 11.78, 12.76, 13.74, 14.72, 15.7 , 16.68, 17.66,\n",
       "       18.64, 19.62, 20.6 , 21.58, 22.56, 23.54, 24.52, 25.5 , 26.48,\n",
       "       27.46, 28.44, 29.42, 30.4 , 31.38, 32.36, 33.34, 34.32, 35.3 ,\n",
       "       36.28, 37.26, 38.24, 39.22, 40.2 , 41.18, 42.16, 43.14, 44.12,\n",
       "       45.1 , 46.08, 47.06, 48.04, 49.02, 50.  , 50.98, 51.96, 52.94,\n",
       "       53.92, 54.9 , 55.88, 56.86, 57.84, 58.82, 59.8 , 60.78, 61.76,\n",
       "       62.74, 63.72, 64.7 , 65.68, 66.66, 67.64, 68.62, 69.6 , 70.58,\n",
       "       71.56, 72.54, 73.52, 74.5 , 75.48, 76.46, 77.44, 78.42, 79.4 ,\n",
       "       80.38, 81.36, 82.34, 83.32, 84.3 , 85.28, 86.26, 87.24, 88.22,\n",
       "       89.2 , 90.18, 91.16, 92.14, 93.12, 94.1 , 95.08, 96.06, 97.04,\n",
       "       98.02, 99.  ])"
      ]
     },
     "execution_count": 15,
     "metadata": {},
     "output_type": "execute_result"
    }
   ],
   "source": [
    "np.linspace(1,99,101)"
   ]
  },
  {
   "cell_type": "code",
   "execution_count": null,
   "metadata": {},
   "outputs": [],
   "source": []
  }
 ],
 "metadata": {
  "kernelspec": {
   "display_name": "Python 3",
   "language": "python",
   "name": "python3"
  },
  "language_info": {
   "codemirror_mode": {
    "name": "ipython",
    "version": 3
   },
   "file_extension": ".py",
   "mimetype": "text/x-python",
   "name": "python",
   "nbconvert_exporter": "python",
   "pygments_lexer": "ipython3",
   "version": "3.8.5"
  }
 },
 "nbformat": 4,
 "nbformat_minor": 4
}
