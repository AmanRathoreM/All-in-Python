{
 "cells": [
  {
   "cell_type": "markdown",
   "metadata": {},
   "source": [
    "<h1 style=\"text-align:center; font-size:160%; font-family:verdana;color:#F44A79;\"><em>Date 07-07-2021</em></h1>"
   ]
  },
  {
   "cell_type": "markdown",
   "metadata": {},
   "source": [
    "<h1 style=\"text-align:center; font-size:360%; font-family:verdana;color:#4A3E76;\"><em>Dash Layouts - Part One</em></h1>"
   ]
  },
  {
   "cell_type": "code",
   "execution_count": 1,
   "metadata": {},
   "outputs": [
    {
     "name": "stdout",
     "output_type": "stream",
     "text": [
      "dash = 1.20.0\n",
      "dash_core_components = 1.16.0\n",
      "plotly = 5.1.0\n",
      "dash_html_components = 1.1.3\n",
      "numpy = 1.19.2\n"
     ]
    }
   ],
   "source": [
    "import plotly.offline as pyo\n",
    "import plotly.graph_objs as go\n",
    "import plotly \n",
    "import dash\n",
    "import dash_core_components as dcc\n",
    "import dash_html_components as html\n",
    "import numpy as np\n",
    "\n",
    "versions_of_modules_used = {dash.__name__ : dash.__version__, \n",
    "                            dcc.__name__ : dcc.__version__, \n",
    "                            plotly.__name__ : plotly.__version__,\n",
    "                            html.__name__ : html.__version__,\n",
    "                            np.__name__ : np.__version__}\n",
    "\n",
    "for i, j in versions_of_modules_used.items():\n",
    "        print(i,\"=\",j)"
   ]
  },
  {
   "cell_type": "markdown",
   "metadata": {},
   "source": [
    "|      Module Name     | Module Versions |\n",
    "|:--------------------:|:---------------:|\n",
    "|         dash         |      1.20.0     |\n",
    "| dash_core_components |      1.16.0     |\n",
    "|        plotly        |      5.1.0      |\n",
    "| dash_html_components |      1.1.3      |\n",
    "|         numpy        |      1.19.2     |"
   ]
  },
  {
   "cell_type": "code",
   "execution_count": 2,
   "metadata": {},
   "outputs": [
    {
     "name": "stdout",
     "output_type": "stream",
     "text": [
      "Dash is running on http://127.0.0.1:8050/\n",
      "\n",
      " * Serving Flask app \"__main__\" (lazy loading)\n",
      " * Environment: production\n",
      "   WARNING: This is a development server. Do not use it in a production deployment.\n",
      "   Use a production WSGI server instead.\n",
      " * Debug mode: off\n"
     ]
    },
    {
     "name": "stderr",
     "output_type": "stream",
     "text": [
      " * Running on http://127.0.0.1:8050/ (Press CTRL+C to quit)\n",
      "127.0.0.1 - - [07/Jul/2021 13:58:52] \"\u001b[37mGET / HTTP/1.1\u001b[0m\" 200 -\n",
      "127.0.0.1 - - [07/Jul/2021 13:58:53] \"\u001b[37mGET /_dash-layout HTTP/1.1\u001b[0m\" 200 -\n",
      "127.0.0.1 - - [07/Jul/2021 13:58:53] \"\u001b[37mGET /_dash-dependencies HTTP/1.1\u001b[0m\" 200 -\n"
     ]
    }
   ],
   "source": [
    "app = dash.Dash()\n",
    "app.layout = html.Div(children = [html.H1(\"I\\'m a Heading\"),\n",
    "                                  html.Div(\"This is a Component of WebPage\"),\n",
    "                                  dcc.Graph(id = \"Example\",\n",
    "                                            figure = dict(data = [{'x': np.random.randint(150,200,6), 'y': np.random.randint(0,500,6), 'type': 'bar', 'name': 'Graph 1'},\n",
    "                                                                  {'x': np.linspace(149.99,199.99,42), 'y': np.linspace(149.99,500.99,42), 'type': 'markers', 'name': 'Graph 2'},\n",
    "                                                                  {'x': np.random.randint(150,200,6), 'y': np.random.randint(0,500,6), 'type': 'bar', 'name': 'Graph 3'}],\n",
    "                                                          layout = {'title': 'Dash Graphs'}))])\n",
    "app.run_server()"
   ]
  }
 ],
 "metadata": {
  "kernelspec": {
   "display_name": "Python 3",
   "language": "python",
   "name": "python3"
  },
  "language_info": {
   "codemirror_mode": {
    "name": "ipython",
    "version": 3
   },
   "file_extension": ".py",
   "mimetype": "text/x-python",
   "name": "python",
   "nbconvert_exporter": "python",
   "pygments_lexer": "ipython3",
   "version": "3.8.5"
  }
 },
 "nbformat": 4,
 "nbformat_minor": 4
}
