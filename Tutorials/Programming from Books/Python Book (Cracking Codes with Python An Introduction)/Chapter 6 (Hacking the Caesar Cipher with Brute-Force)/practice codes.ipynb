{
 "metadata": {
  "language_info": {
   "codemirror_mode": {
    "name": "ipython",
    "version": 3
   },
   "file_extension": ".py",
   "mimetype": "text/x-python",
   "name": "python",
   "nbconvert_exporter": "python",
   "pygments_lexer": "ipython3",
   "version": "3.9.5"
  },
  "orig_nbformat": 2,
  "kernelspec": {
   "name": "python395jvsc74a57bd0ac59ebe37160ed0dfa835113d9b8498d9f09ceb179beaac4002f036b9467c963",
   "display_name": "Python 3.9.5 64-bit"
  },
  "metadata": {
   "interpreter": {
    "hash": "ac59ebe37160ed0dfa835113d9b8498d9f09ceb179beaac4002f036b9467c963"
   }
  }
 },
 "nbformat": 4,
 "nbformat_minor": 2,
 "cells": [
  {
   "source": [
    "<h1 style=\"color:#d4286a;font-family:italic;\">Date 23-05-2021</h1>\n",
    "<hr>"
   ],
   "cell_type": "markdown",
   "metadata": {}
  },
  {
   "source": [
    "<h3>Break the following ciphertext, decrypting one line at a time because each\n",
    "line has a different key. Remember to escape any quote characters:</h3><hr>"
   ],
   "cell_type": "markdown",
   "metadata": {}
  },
  {
   "source": [
    "<h1>qeFIP?eGSeECNNS,</h1>"
   ],
   "cell_type": "markdown",
   "metadata": {}
  },
  {
   "cell_type": "code",
   "execution_count": 22,
   "metadata": {},
   "outputs": [
    {
     "output_type": "stream",
     "name": "stdout",
     "text": [
      "Key 0 ---- qeFIP?eGSeECNNS,\nKey 1 ---- pdEHO!dFRdDBMMR,\nKey 2 ---- ocDGN cEQcCALLQ,\nKey 3 ---- nbCFM0bDPbB.KKP,\nKey 4 ---- maBEL9aCOaA?JJO,\nKey 5 ---- lZADK8ZBNZ.!IIN,\nKey 6 ---- kY.CJ7YAMY? HHM,\nKey 7 ---- jX?BI6X.LX!0GGL,\nKey 8 ---- iW!AH5W?KW 9FFK,\nKey 9 ---- hV .G4V!JV08EEJ,\nKey 10 ---- gU0?F3U IU97DDI,\nKey 11 ---- fT9!E2T0HT86CCH,\nKey 12 ---- eS8 D1S9GS75BBG,\nKey 13 ---- dR70CzR8FR64AAF,\nKey 14 ---- cQ69ByQ7EQ53..E,\nKey 15 ---- bP58AxP6DP42??D,\nKey 16 ---- aO47.wO5CO31!!C,\nKey 17 ---- ZN36?vN4BN2z  B,\nKey 18 ---- YM25!uM3AM1y00A,\nKey 19 ---- XL14 tL2.Lzx99.,\nKey 20 ---- WKz30sK1?Kyw88?,\nKey 21 ---- VJy29rJz!Jxv77!,\nKey 22 ---- UIx18qIy Iwu66 ,\nKey 23 ---- THwz7pHx0Hvt550,\nKey 24 ---- SGvy6oGw9Gus449,\nKey 25 ---- RFux5nFv8Ftr338,\nKey 26 ---- QEtw4mEu7Esq227,\nKey 27 ---- PDsv3lDt6Drp116,\nKey 28 ---- OCru2kCs5Cqozz5,\nKey 29 ---- NBqt1jBr4Bpnyy4,\nKey 30 ---- MApsziAq3Aomxx3,\nKey 31 ---- L.oryh.p2.nlww2,\nKey 32 ---- K?nqxg?o1?mkvv1,\nKey 33 ---- J!mpwf!nz!ljuuz,\nKey 34 ---- I love my kitty,\nKey 35 ---- H0knud0lx0jhssx,\nKey 36 ---- G9jmtc9kw9igrrw,\nKey 37 ---- F8ilsb8jv8hfqqv,\nKey 38 ---- E7hkra7iu7geppu,\nKey 39 ---- D6gjqZ6ht6fdoot,\nKey 40 ---- C5fipY5gs5ecnns,\nKey 41 ---- B4ehoX4fr4dbmmr,\nKey 42 ---- A3dgnW3eq3callq,\nKey 43 ---- .2cfmV2dp2bZkkp,\nKey 44 ---- ?1belU1co1aYjjo,\nKey 45 ---- !zadkTzbnzZXiin,\nKey 46 ----  yZcjSyamyYWhhm,\nKey 47 ---- 0xYbiRxZlxXVggl,\nKey 48 ---- 9wXahQwYkwWUffk,\nKey 49 ---- 8vWZgPvXjvVTeej,\nKey 50 ---- 7uVYfOuWiuUSddi,\nKey 51 ---- 6tUXeNtVhtTRcch,\nKey 52 ---- 5sTWdMsUgsSQbbg,\nKey 53 ---- 4rSVcLrTfrRPaaf,\nKey 54 ---- 3qRUbKqSeqQOZZe,\nKey 55 ---- 2pQTaJpRdpPNYYd,\nKey 56 ---- 1oPSZIoQcoOMXXc,\nKey 57 ---- znORYHnPbnNLWWb,\nKey 58 ---- ymNQXGmOamMKVVa,\nKey 59 ---- xlMPWFlNZlLJUUZ,\nKey 60 ---- wkLOVEkMYkKITTY,\nKey 61 ---- vjKNUDjLXjJHSSX,\nKey 62 ---- uiJMTCiKWiIGRRW,\nKey 63 ---- thILSBhJVhHFQQV,\nKey 64 ---- sgHKRAgIUgGEPPU,\nKey 65 ---- rfGJQ.fHTfFDOOT,\n"
     ]
    }
   ],
   "source": [
    "message = 'qeFIP?eGSeECNNS,'\n",
    "symbols = 'ABCDEFGHIJKLMNOPQRSTUVWXYZabcdefghijklmnopqrstuvwxyz1234567890 !?.'\n",
    "msg = []\n",
    "# Loop through every possible key:\n",
    "for key in range(len(symbols)):\n",
    "    translated_message = ''\n",
    "\n",
    "    for symbol in message:\n",
    "        if symbol in symbols:\n",
    "            symbolIndex = symbols.find(symbol)\n",
    "            translatedIndex = symbolIndex - key\n",
    "\n",
    "            if translatedIndex < 0:\n",
    "                translatedIndex = translatedIndex + len(symbols)\n",
    "\n",
    "            translated_message = translated_message + symbols[translatedIndex]\n",
    "\n",
    "        else:\n",
    "            translated_message = translated_message + symbol\n",
    "\n",
    "    msg.append(translated_message)\n",
    "n = 0\n",
    "for i in msg:\n",
    "    print('Key', n, '----', i)\n",
    "    n += 1"
   ]
  },
  {
   "source": [
    "<p style=\"font-family:courier;color:#2497f0;font-size: 40px;\">Key is 34</p><hr>"
   ],
   "cell_type": "markdown",
   "metadata": {}
  },
  {
   "source": [
    "<h1>5coOMXXcoPSZIWoQI,</h1>"
   ],
   "cell_type": "markdown",
   "metadata": {}
  },
  {
   "cell_type": "code",
   "execution_count": 23,
   "metadata": {},
   "outputs": [
    {
     "output_type": "stream",
     "name": "stdout",
     "text": [
      "Key 0 ---- 5coOMXXcoPSZIWoQI,\nKey 1 ---- 4bnNLWWbnORYHVnPH,\nKey 2 ---- 3amMKVVamNQXGUmOG,\nKey 3 ---- 2ZlLJUUZlMPWFTlNF,\nKey 4 ---- 1YkKITTYkLOVESkME,\nKey 5 ---- zXjJHSSXjKNUDRjLD,\nKey 6 ---- yWiIGRRWiJMTCQiKC,\nKey 7 ---- xVhHFQQVhILSBPhJB,\nKey 8 ---- wUgGEPPUgHKRAOgIA,\nKey 9 ---- vTfFDOOTfGJQ.NfH.,\nKey 10 ---- uSeECNNSeFIP?MeG?,\nKey 11 ---- tRdDBMMRdEHO!LdF!,\nKey 12 ---- sQcCALLQcDGN KcE ,\nKey 13 ---- rPbB.KKPbCFM0JbD0,\nKey 14 ---- qOaA?JJOaBEL9IaC9,\nKey 15 ---- pNZ.!IINZADK8HZB8,\nKey 16 ---- oMY? HHMY.CJ7GYA7,\nKey 17 ---- nLX!0GGLX?BI6FX.6,\nKey 18 ---- mKW 9FFKW!AH5EW?5,\nKey 19 ---- lJV08EEJV .G4DV!4,\nKey 20 ---- kIU97DDIU0?F3CU 3,\nKey 21 ---- jHT86CCHT9!E2BT02,\nKey 22 ---- iGS75BBGS8 D1AS91,\nKey 23 ---- hFR64AAFR70Cz.R8z,\nKey 24 ---- gEQ53..EQ69By?Q7y,\nKey 25 ---- fDP42??DP58Ax!P6x,\nKey 26 ---- eCO31!!CO47.w O5w,\nKey 27 ---- dBN2z  BN36?v0N4v,\nKey 28 ---- cAM1y00AM25!u9M3u,\nKey 29 ---- b.Lzx99.L14 t8L2t,\nKey 30 ---- a?Kyw88?Kz30s7K1s,\nKey 31 ---- Z!Jxv77!Jy29r6Jzr,\nKey 32 ---- Y Iwu66 Ix18q5Iyq,\nKey 33 ---- X0Hvt550Hwz7p4Hxp,\nKey 34 ---- W9Gus449Gvy6o3Gwo,\nKey 35 ---- V8Ftr338Fux5n2Fvn,\nKey 36 ---- U7Esq227Etw4m1Eum,\nKey 37 ---- T6Drp116Dsv3lzDtl,\nKey 38 ---- S5Cqozz5Cru2kyCsk,\nKey 39 ---- R4Bpnyy4Bqt1jxBrj,\nKey 40 ---- Q3Aomxx3ApsziwAqi,\nKey 41 ---- P2.nlww2.oryhv.ph,\nKey 42 ---- O1?mkvv1?nqxgu?og,\nKey 43 ---- Nz!ljuuz!mpwft!nf,\nKey 44 ---- My kitty loves me,\nKey 45 ---- Lx0jhssx0knudr0ld,\nKey 46 ---- Kw9igrrw9jmtcq9kc,\nKey 47 ---- Jv8hfqqv8ilsbp8jb,\nKey 48 ---- Iu7geppu7hkrao7ia,\nKey 49 ---- Ht6fdoot6gjqZn6hZ,\nKey 50 ---- Gs5ecnns5fipYm5gY,\nKey 51 ---- Fr4dbmmr4ehoXl4fX,\nKey 52 ---- Eq3callq3dgnWk3eW,\nKey 53 ---- Dp2bZkkp2cfmVj2dV,\nKey 54 ---- Co1aYjjo1belUi1cU,\nKey 55 ---- BnzZXiinzadkThzbT,\nKey 56 ---- AmyYWhhmyZcjSgyaS,\nKey 57 ---- .lxXVgglxYbiRfxZR,\nKey 58 ---- ?kwWUffkwXahQewYQ,\nKey 59 ---- !jvVTeejvWZgPdvXP,\nKey 60 ----  iuUSddiuVYfOcuWO,\nKey 61 ---- 0htTRcchtUXeNbtVN,\nKey 62 ---- 9gsSQbbgsTWdMasUM,\nKey 63 ---- 8frRPaafrSVcLZrTL,\nKey 64 ---- 7eqQOZZeqRUbKYqSK,\nKey 65 ---- 6dpPNYYdpQTaJXpRJ,\n"
     ]
    }
   ],
   "source": [
    "message = '5coOMXXcoPSZIWoQI,'\n",
    "symbols = 'ABCDEFGHIJKLMNOPQRSTUVWXYZabcdefghijklmnopqrstuvwxyz1234567890 !?.'\n",
    "msg = []\n",
    "# Loop through every possible key:\n",
    "for key in range(len(symbols)):\n",
    "    translated_message = ''\n",
    "\n",
    "    for symbol in message:\n",
    "        if symbol in symbols:\n",
    "            symbolIndex = symbols.find(symbol)\n",
    "            translatedIndex = symbolIndex - key\n",
    "\n",
    "            if translatedIndex < 0:\n",
    "                translatedIndex = translatedIndex + len(symbols)\n",
    "\n",
    "            translated_message = translated_message + symbols[translatedIndex]\n",
    "\n",
    "        else:\n",
    "            translated_message = translated_message + symbol\n",
    "\n",
    "    msg.append(translated_message)\n",
    "n = 0\n",
    "for i in msg:\n",
    "    print('Key', n, '----', i)\n",
    "    n += 1"
   ]
  },
  {
   "source": [
    "<p style=\"font-family:courier;color:#2497f0;font-size: 40px;\">Key is 44</p><hr>"
   ],
   "cell_type": "markdown",
   "metadata": {}
  },
  {
   "source": [
    "<h1>avnl1olyD4l'ylDohww6DhzDjhuDil,</h1>"
   ],
   "cell_type": "markdown",
   "metadata": {}
  },
  {
   "cell_type": "code",
   "execution_count": 24,
   "metadata": {},
   "outputs": [
    {
     "output_type": "stream",
     "name": "stdout",
     "text": [
      "Key 0 ---- avnl1olyD4l'ylDohww6DhzDjhuDil,\nKey 1 ---- ZumkznkxC3k'xkCngvv5CgyCigtChk,\nKey 2 ---- YtljymjwB2j'wjBmfuu4BfxBhfsBgj,\nKey 3 ---- XskixlivA1i'viAlett3AewAgerAfi,\nKey 4 ---- Wrjhwkhu.zh'uh.kdss2.dv.fdq.eh,\nKey 5 ---- Vqigvjgt?yg'tg?jcrr1?cu?ecp?dg,\nKey 6 ---- Uphfuifs!xf'sf!ibqqz!bt!dbo!cf,\nKey 7 ---- Together we're happy as can be,\nKey 8 ---- Snfdsgdq0vd'qd0gZoox0Zr0bZm0ad,\nKey 9 ---- Rmecrfcp9uc'pc9fYnnw9Yq9aYl9Zc,\nKey 10 ---- Qldbqebo8tb'ob8eXmmv8Xp8ZXk8Yb,\nKey 11 ---- Pkcapdan7sa'na7dWllu7Wo7YWj7Xa,\nKey 12 ---- OjbZocZm6rZ'mZ6cVkkt6Vn6XVi6WZ,\nKey 13 ---- NiaYnbYl5qY'lY5bUjjs5Um5WUh5VY,\nKey 14 ---- MhZXmaXk4pX'kX4aTiir4Tl4VTg4UX,\nKey 15 ---- LgYWlZWj3oW'jW3ZShhq3Sk3USf3TW,\nKey 16 ---- KfXVkYVi2nV'iV2YRggp2Rj2TRe2SV,\nKey 17 ---- JeWUjXUh1mU'hU1XQffo1Qi1SQd1RU,\nKey 18 ---- IdVTiWTgzlT'gTzWPeenzPhzRPczQT,\nKey 19 ---- HcUShVSfykS'fSyVOddmyOgyQObyPS,\nKey 20 ---- GbTRgURexjR'eRxUNcclxNfxPNaxOR,\nKey 21 ---- FaSQfTQdwiQ'dQwTMbbkwMewOMZwNQ,\nKey 22 ---- EZRPeSPcvhP'cPvSLaajvLdvNLYvMP,\nKey 23 ---- DYQOdRObugO'bOuRKZZiuKcuMKXuLO,\nKey 24 ---- CXPNcQNatfN'aNtQJYYhtJbtLJWtKN,\nKey 25 ---- BWOMbPMZseM'ZMsPIXXgsIasKIVsJM,\nKey 26 ---- AVNLaOLYrdL'YLrOHWWfrHZrJHUrIL,\nKey 27 ---- .UMKZNKXqcK'XKqNGVVeqGYqIGTqHK,\nKey 28 ---- ?TLJYMJWpbJ'WJpMFUUdpFXpHFSpGJ,\nKey 29 ---- !SKIXLIVoaI'VIoLETTcoEWoGERoFI,\nKey 30 ----  RJHWKHUnZH'UHnKDSSbnDVnFDQnEH,\nKey 31 ---- 0QIGVJGTmYG'TGmJCRRamCUmECPmDG,\nKey 32 ---- 9PHFUIFSlXF'SFlIBQQZlBTlDBOlCF,\nKey 33 ---- 8OGETHERkWE'REkHAPPYkASkCANkBE,\nKey 34 ---- 7NFDSGDQjVD'QDjG.OOXj.RjB.MjAD,\nKey 35 ---- 6MECRFCPiUC'PCiF?NNWi?QiA?Li.C,\nKey 36 ---- 5LDBQEBOhTB'OBhE!MMVh!Ph.!Kh?B,\nKey 37 ---- 4KCAPDANgSA'NAgD LLUg Og? Jg!A,\nKey 38 ---- 3JB.OC.MfR.'M.fC0KKTf0Nf!0If .,\nKey 39 ---- 2IA?NB?LeQ?'L?eB9JJSe9Me 9He0?,\nKey 40 ---- 1H.!MA!KdP!'K!dA8IIRd8Ld08Gd9!,\nKey 41 ---- zG? L. JcO 'J c.7HHQc7Kc97Fc8 ,\nKey 42 ---- yF!0K?0IbN0'I0b?6GGPb6Jb86Eb70,\nKey 43 ---- xE 9J!9HaM9'H9a!5FFOa5Ia75Da69,\nKey 44 ---- wD08I 8GZL8'G8Z 4EENZ4HZ64CZ58,\nKey 45 ---- vC97H07FYK7'F7Y03DDMY3GY53BY47,\nKey 46 ---- uB86G96EXJ6'E6X92CCLX2FX42AX36,\nKey 47 ---- tA75F85DWI5'D5W81BBKW1EW31.W25,\nKey 48 ---- s.64E74CVH4'C4V7zAAJVzDV2z?V14,\nKey 49 ---- r?53D63BUG3'B3U6y..IUyCU1y!Uz3,\nKey 50 ---- q!42C52ATF2'A2T5x??HTxBTzx Ty2,\nKey 51 ---- p 31B41.SE1'.1S4w!!GSwASyw0Sx1,\nKey 52 ---- o02zA3z?RDz'?zR3v  FRv.Rxv9Rwz,\nKey 53 ---- n91y.2y!QCy'!yQ2u00EQu?Qwu8Qvy,\nKey 54 ---- m8zx?1x PBx' xP1t99DPt!Pvt7Pux,\nKey 55 ---- l7yw!zw0OAw'0wOzs88COs Ous6Otw,\nKey 56 ---- k6xv yv9N.v'9vNyr77BNr0Ntr5Nsv,\nKey 57 ---- j5wu0xu8M?u'8uMxq66AMq9Msq4Mru,\nKey 58 ---- i4vt9wt7L!t'7tLwp55.Lp8Lrp3Lqt,\nKey 59 ---- h3us8vs6K s'6sKvo44?Ko7Kqo2Kps,\nKey 60 ---- g2tr7ur5J0r'5rJun33!Jn6Jpn1Jor,\nKey 61 ---- f1sq6tq4I9q'4qItm22 Im5IomzInq,\nKey 62 ---- ezrp5sp3H8p'3pHsl110Hl4HnlyHmp,\nKey 63 ---- dyqo4ro2G7o'2oGrkzz9Gk3GmkxGlo,\nKey 64 ---- cxpn3qn1F6n'1nFqjyy8Fj2FljwFkn,\nKey 65 ---- bwom2pmzE5m'zmEpixx7Ei1EkivEjm,\n"
     ]
    }
   ],
   "source": [
    "message = 'avnl1olyD4l\\'ylDohww6DhzDjhuDil,'\n",
    "symbols = 'ABCDEFGHIJKLMNOPQRSTUVWXYZabcdefghijklmnopqrstuvwxyz1234567890 !?.'\n",
    "msg = []\n",
    "# Loop through every possible key:\n",
    "for key in range(len(symbols)):\n",
    "    translated_message = ''\n",
    "\n",
    "    for symbol in message:\n",
    "        if symbol in symbols:\n",
    "            symbolIndex = symbols.find(symbol)\n",
    "            translatedIndex = symbolIndex - key\n",
    "\n",
    "            if translatedIndex < 0:\n",
    "                translatedIndex = translatedIndex + len(symbols)\n",
    "\n",
    "            translated_message = translated_message + symbols[translatedIndex]\n",
    "\n",
    "        else:\n",
    "            translated_message = translated_message + symbol\n",
    "\n",
    "    msg.append(translated_message)\n",
    "n = 0\n",
    "for i in msg:\n",
    "    print('Key', n, '----', i)\n",
    "    n += 1"
   ]
  },
  {
   "source": [
    "<p style=\"font-family:courier;color:#2497f0;font-size: 40px;\">Key is 7</p><hr>"
   ],
   "cell_type": "markdown",
   "metadata": {}
  },
  {
   "source": [
    "<h1>z.GM?.cEQc. 70c.7KcKMKHA9AGFK,\n",
    "</h1>"
   ],
   "cell_type": "markdown",
   "metadata": {}
  },
  {
   "cell_type": "code",
   "execution_count": 25,
   "metadata": {},
   "outputs": [
    {
     "output_type": "stream",
     "name": "stdout",
     "text": [
      "Key 0 ---- z.GM?.cEQc. 70c.7KcKMKHA9AGFK,\nKey 1 ---- y?FL!?bDPb?069b?6JbJLJG.8.FEJ,\nKey 2 ---- x!EK !aCOa!958a!5IaIKIF?7?EDI,\nKey 3 ---- w DJ0 ZBNZ 847Z 4HZHJHE!6!DCH,\nKey 4 ---- v0CI90YAMY0736Y03GYGIGD 5 CBG,\nKey 5 ---- u9BH89X.LX9625X92FXFHFC040BAF,\nKey 6 ---- t8AG78W?KW8514W81EWEGEB939A.E,\nKey 7 ---- s7.F67V!JV74z3V7zDVDFDA828.?D,\nKey 8 ---- r6?E56U IU63y2U6yCUCEC.717?!C,\nKey 9 ---- q5!D45T0HT52x1T5xBTBDB?6z6! B,\nKey 10 ---- p4 C34S9GS41wzS4wASACA!5y5 0A,\nKey 11 ---- o30B23R8FR3zvyR3v.R.B. 4x409.,\nKey 12 ---- n29A12Q7EQ2yuxQ2u?Q?A?03w398?,\nKey 13 ---- m18.z1P6DP1xtwP1t!P!.!92v287!,\nKey 14 ---- lz7?yzO5COzwsvOzs O ? 81u176 ,\nKey 15 ---- ky6!xyN4BNyvruNyr0N0!07ztz650,\nKey 16 ---- jx5 wxM3AMxuqtMxq9M9 96ysy549,\nKey 17 ---- iw40vwL2.LwtpsLwp8L8085xrx438,\nKey 18 ---- hv39uvK1?KvsorKvo7K7974wqw327,\nKey 19 ---- gu28tuJz!JurnqJun6J6863vpv216,\nKey 20 ---- ft17stIy ItqmpItm5I5752uou1z5,\nKey 21 ---- esz6rsHx0HsploHsl4H4641tntzy4,\nKey 22 ---- dry5qrGw9GroknGrk3G353zsmsyx3,\nKey 23 ---- cqx4pqFv8FqnjmFqj2F242yrlrxw2,\nKey 24 ---- bpw3opEu7EpmilEpi1E131xqkqwv1,\nKey 25 ---- aov2noDt6DolhkDohzDz2zwpjpvuz,\nKey 26 ---- Znu1mnCs5CnkgjCngyCy1yvoiouty,\nKey 27 ---- YmtzlmBr4BmjfiBmfxBxzxunhntsx,\nKey 28 ---- XlsyklAq3AliehAlewAwywtmgmsrw,\nKey 29 ---- Wkrxjk.p2.khdg.kdv.vxvslflrqv,\nKey 30 ---- Vjqwij?o1?jgcf?jcu?uwurkekqpu,\nKey 31 ---- Uipvhi!nz!ifbe!ibt!tvtqjdjpot,\nKey 32 ---- Though my head has suspicions,\nKey 33 ---- Sgntfg0lx0gdZc0gZr0rtrohbhnmr,\nKey 34 ---- Rfmsef9kw9fcYb9fYq9qsqngagmlq,\nKey 35 ---- Qelrde8jv8ebXa8eXp8prpmfZflkp,\nKey 36 ---- Pdkqcd7iu7daWZ7dWo7oqoleYekjo,\nKey 37 ---- Ocjpbc6ht6cZVY6cVn6npnkdXdjin,\nKey 38 ---- Nbioab5gs5bYUX5bUm5momjcWcihm,\nKey 39 ---- MahnZa4fr4aXTW4aTl4lnlibVbhgl,\nKey 40 ---- LZgmYZ3eq3ZWSV3ZSk3kmkhaUagfk,\nKey 41 ---- KYflXY2dp2YVRU2YRj2jljgZTZfej,\nKey 42 ---- JXekWX1co1XUQT1XQi1ikifYSYedi,\nKey 43 ---- IWdjVWzbnzWTPSzWPhzhjheXRXdch,\nKey 44 ---- HVciUVyamyVSORyVOgygigdWQWcbg,\nKey 45 ---- GUbhTUxZlxURNQxUNfxfhfcVPVbaf,\nKey 46 ---- FTagSTwYkwTQMPwTMewegebUOUaZe,\nKey 47 ---- ESZfRSvXjvSPLOvSLdvdfdaTNTZYd,\nKey 48 ---- DRYeQRuWiuROKNuRKcucecZSMSYXc,\nKey 49 ---- CQXdPQtVhtQNJMtQJbtbdbYRLRXWb,\nKey 50 ---- BPWcOPsUgsPMILsPIasacaXQKQWVa,\nKey 51 ---- AOVbNOrTfrOLHKrOHZrZbZWPJPVUZ,\nKey 52 ---- .NUaMNqSeqNKGJqNGYqYaYVOIOUTY,\nKey 53 ---- ?MTZLMpRdpMJFIpMFXpXZXUNHNTSX,\nKey 54 ---- !LSYKLoQcoLIEHoLEWoWYWTMGMSRW,\nKey 55 ----  KRXJKnPbnKHDGnKDVnVXVSLFLRQV,\nKey 56 ---- 0JQWIJmOamJGCFmJCUmUWURKEKQPU,\nKey 57 ---- 9IPVHIlNZlIFBElIBTlTVTQJDJPOT,\nKey 58 ---- 8HOUGHkMYkHEADkHASkSUSPICIONS,\nKey 59 ---- 7GNTFGjLXjGD.CjG.RjRTROHBHNMR,\nKey 60 ---- 6FMSEFiKWiFC?BiF?QiQSQNGAGMLQ,\nKey 61 ---- 5ELRDEhJVhEB!AhE!PhPRPMF.FLKP,\nKey 62 ---- 4DKQCDgIUgDA .gD OgOQOLE?EKJO,\nKey 63 ---- 3CJPBCfHTfC.0?fC0NfNPNKD!DJIN,\nKey 64 ---- 2BIOABeGSeB?9!eB9MeMOMJC CIHM,\nKey 65 ---- 1AHN.AdFRdA!8 dA8LdLNLIB0BHGL,\n"
     ]
    }
   ],
   "source": [
    "message = 'z.GM?.cEQc. 70c.7KcKMKHA9AGFK,'\n",
    "symbols = 'ABCDEFGHIJKLMNOPQRSTUVWXYZabcdefghijklmnopqrstuvwxyz1234567890 !?.'\n",
    "msg = []\n",
    "# Loop through every possible key:\n",
    "for key in range(len(symbols)):\n",
    "    translated_message = ''\n",
    "\n",
    "    for symbol in message:\n",
    "        if symbol in symbols:\n",
    "            symbolIndex = symbols.find(symbol)\n",
    "            translatedIndex = symbolIndex - key\n",
    "\n",
    "            if translatedIndex < 0:\n",
    "                translatedIndex = translatedIndex + len(symbols)\n",
    "\n",
    "            translated_message = translated_message + symbols[translatedIndex]\n",
    "\n",
    "        else:\n",
    "            translated_message = translated_message + symbol\n",
    "\n",
    "    msg.append(translated_message)\n",
    "n = 0\n",
    "for i in msg:\n",
    "    print('Key', n, '----', i)\n",
    "    n += 1"
   ]
  },
  {
   "source": [
    "<p style=\"font-family:courier;color:#2497f0;font-size: 40px;\">Key is 32</p><hr>"
   ],
   "cell_type": "markdown",
   "metadata": {}
  },
  {
   "source": [
    "<h1>?MFYp2pPJJUpZSIJWpRdpMFY,\n",
    "</h1>"
   ],
   "cell_type": "markdown",
   "metadata": {}
  },
  {
   "cell_type": "code",
   "execution_count": 26,
   "metadata": {},
   "outputs": [
    {
     "output_type": "stream",
     "name": "stdout",
     "text": [
      "Key 0 ---- ?MFYp2pPJJUpZSIJWpRdpMFY,\n",
      "Key 1 ---- !LEXo1oOIIToYRHIVoQcoLEX,\n",
      "Key 2 ----  KDWnznNHHSnXQGHUnPbnKDW,\n",
      "Key 3 ---- 0JCVmymMGGRmWPFGTmOamJCV,\n",
      "Key 4 ---- 9IBUlxlLFFQlVOEFSlNZlIBU,\n",
      "Key 5 ---- 8HATkwkKEEPkUNDERkMYkHAT,\n",
      "Key 6 ---- 7G.SjvjJDDOjTMCDQjLXjG.S,\n",
      "Key 7 ---- 6F?RiuiICCNiSLBCPiKWiF?R,\n",
      "Key 8 ---- 5E!QhthHBBMhRKABOhJVhE!Q,\n",
      "Key 9 ---- 4D PgsgGAALgQJ.ANgIUgD P,\n",
      "Key 10 ---- 3C0OfrfF..KfPI?.MfHTfC0O,\n",
      "Key 11 ---- 2B9NeqeE??JeOH!?LeGSeB9N,\n",
      "Key 12 ---- 1A8MdpdD!!IdNG !KdFRdA8M,\n",
      "Key 13 ---- z.7LcocC  HcMF0 JcEQc.7L,\n",
      "Key 14 ---- y?6KbnbB00GbLE90IbDPb?6K,\n",
      "Key 15 ---- x!5JamaA99FaKD89HaCOa!5J,\n",
      "Key 16 ---- w 4IZlZ.88EZJC78GZBNZ 4I,\n",
      "Key 17 ---- v03HYkY?77DYIB67FYAMY03H,\n",
      "Key 18 ---- u92GXjX!66CXHA56EX.LX92G,\n",
      "Key 19 ---- t81FWiW 55BWG.45DW?KW81F,\n",
      "Key 20 ---- s7zEVhV044AVF?34CV!JV7zE,\n",
      "Key 21 ---- r6yDUgU933.UE!23BU IU6yD,\n",
      "Key 22 ---- q5xCTfT822?TD 12AT0HT5xC,\n",
      "Key 23 ---- p4wBSeS711!SC0z1.S9GS4wB,\n",
      "Key 24 ---- o3vARdR6zz RB9yz?R8FR3vA,\n",
      "Key 25 ---- n2u.QcQ5yy0QA8xy!Q7EQ2u.,\n",
      "Key 26 ---- m1t?PbP4xx9P.7wx P6DP1t?,\n",
      "Key 27 ---- lzs!OaO3ww8O?6vw0O5COzs!,\n",
      "Key 28 ---- kyr NZN2vv7N!5uv9N4BNyr ,\n",
      "Key 29 ---- jxq0MYM1uu6M 4tu8M3AMxq0,\n",
      "Key 30 ---- iwp9LXLztt5L03st7L2.Lwp9,\n",
      "Key 31 ---- hvo8KWKyss4K92rs6K1?Kvo8,\n",
      "Key 32 ---- gun7JVJxrr3J81qr5Jz!Jun7,\n",
      "Key 33 ---- ftm6IUIwqq2I7zpq4Iy Itm6,\n",
      "Key 34 ---- esl5HTHvpp1H6yop3Hx0Hsl5,\n",
      "Key 35 ---- drk4GSGuoozG5xno2Gw9Grk4,\n",
      "Key 36 ---- cqj3FRFtnnyF4wmn1Fv8Fqj3,\n",
      "Key 37 ---- bpi2EQEsmmxE3vlmzEu7Epi2,\n",
      "Key 38 ---- aoh1DPDrllwD2uklyDt6Doh1,\n",
      "Key 39 ---- ZngzCOCqkkvC1tjkxCs5Cngz,\n",
      "Key 40 ---- YmfyBNBpjjuBzsijwBr4Bmfy,\n",
      "Key 41 ---- XlexAMAoiitAyrhivAq3Alex,\n",
      "Key 42 ---- Wkdw.L.nhhs.xqghu.p2.kdw,\n",
      "Key 43 ---- Vjcv?K?mggr?wpfgt?o1?jcv,\n",
      "Key 44 ---- Uibu!J!lffq!voefs!nz!ibu,\n",
      "Key 45 ---- That I keep under my hat,\n",
      "Key 46 ---- SgZs0H0jddo0tmcdq0lx0gZs,\n",
      "Key 47 ---- RfYr9G9iccn9slbcp9kw9fYr,\n",
      "Key 48 ---- QeXq8F8hbbm8rkabo8jv8eXq,\n",
      "Key 49 ---- PdWp7E7gaal7qjZan7iu7dWp,\n",
      "Key 50 ---- OcVo6D6fZZk6piYZm6ht6cVo,\n",
      "Key 51 ---- NbUn5C5eYYj5ohXYl5gs5bUn,\n",
      "Key 52 ---- MaTm4B4dXXi4ngWXk4fr4aTm,\n",
      "Key 53 ---- LZSl3A3cWWh3mfVWj3eq3ZSl,\n",
      "Key 54 ---- KYRk2.2bVVg2leUVi2dp2YRk,\n",
      "Key 55 ---- JXQj1?1aUUf1kdTUh1co1XQj,\n",
      "Key 56 ---- IWPiz!zZTTezjcSTgzbnzWPi,\n",
      "Key 57 ---- HVOhy yYSSdyibRSfyamyVOh,\n",
      "Key 58 ---- GUNgx0xXRRcxhaQRexZlxUNg,\n",
      "Key 59 ---- FTMfw9wWQQbwgZPQdwYkwTMf,\n",
      "Key 60 ---- ESLev8vVPPavfYOPcvXjvSLe,\n",
      "Key 61 ---- DRKdu7uUOOZueXNObuWiuRKd,\n",
      "Key 62 ---- CQJct6tTNNYtdWMNatVhtQJc,\n",
      "Key 63 ---- BPIbs5sSMMXscVLMZsUgsPIb,\n",
      "Key 64 ---- AOHar4rRLLWrbUKLYrTfrOHa,\n",
      "Key 65 ---- .NGZq3qQKKVqaTJKXqSeqNGZ,\n"
     ]
    }
   ],
   "source": [
    "message = '?MFYp2pPJJUpZSIJWpRdpMFY,'\n",
    "symbols = 'ABCDEFGHIJKLMNOPQRSTUVWXYZabcdefghijklmnopqrstuvwxyz1234567890 !?.'\n",
    "msg = []\n",
    "# Loop through every possible key:\n",
    "for key in range(len(symbols)):\n",
    "    translated_message = ''\n",
    "\n",
    "    for symbol in message:\n",
    "        if symbol in symbols:\n",
    "            symbolIndex = symbols.find(symbol)\n",
    "            translatedIndex = symbolIndex - key\n",
    "\n",
    "            if translatedIndex < 0:\n",
    "                translatedIndex = translatedIndex + len(symbols)\n",
    "\n",
    "            translated_message = translated_message + symbols[translatedIndex]\n",
    "\n",
    "        else:\n",
    "            translated_message = translated_message + symbol\n",
    "\n",
    "    msg.append(translated_message)\n",
    "n = 0\n",
    "for i in msg:\n",
    "    print('Key', n, '----', i)\n",
    "    n += 1"
   ]
  },
  {
   "source": [
    "<p style=\"font-family:courier;color:#2497f0;font-size: 40px;\">Key is 45</p><hr>"
   ],
   "cell_type": "markdown",
   "metadata": {}
  },
  {
   "source": [
    "<h1>ZqH8sl5HtqHTH4s3lyvH5zH5spH4t pHzqHlH3l5K</h1>"
   ],
   "cell_type": "markdown",
   "metadata": {}
  },
  {
   "cell_type": "code",
   "execution_count": 27,
   "metadata": {},
   "outputs": [
    {
     "output_type": "stream",
     "name": "stdout",
     "text": [
      "Key 0 ---- ZqH8sl5HtqHTH4s3lyvH5zH5spH4t pHzqHlH3l5K\nKey 1 ---- YpG7rk4GspGSG3r2kxuG4yG4roG3s0oGypGkG2k4J\nKey 2 ---- XoF6qj3FroFRF2q1jwtF3xF3qnF2r9nFxoFjF1j3I\nKey 3 ---- WnE5pi2EqnEQE1pzivsE2wE2pmE1q8mEwnEiEzi2H\nKey 4 ---- VmD4oh1DpmDPDzoyhurD1vD1olDzp7lDvmDhDyh1G\nKey 5 ---- UlC3ngzColCOCynxgtqCzuCznkCyo6kCulCgCxgzF\nKey 6 ---- TkB2mfyBnkBNBxmwfspBytBymjBxn5jBtkBfBwfyE\nKey 7 ---- SjA1lexAmjAMAwlveroAxsAxliAwm4iAsjAeAvexD\nKey 8 ---- Ri.zkdw.li.L.vkudqn.wr.wkh.vl3h.ri.d.udwC\nKey 9 ---- Qh?yjcv?kh?K?ujtcpm?vq?vjg?uk2g?qh?c?tcvB\nKey 10 ---- Pg!xibu!jg!J!tisbol!up!uif!tj1f!pg!b!sbuA\nKey 11 ---- Of what if I shrank to the size of a rat.\nKey 12 ---- Ne0vgZs0he0H0rgqZmj0sn0sgd0rhyd0ne0Z0qZs?\nKey 13 ---- Md9ufYr9gd9G9qfpYli9rm9rfc9qgxc9md9Y9pYr!\nKey 14 ---- Lc8teXq8fc8F8peoXkh8ql8qeb8pfwb8lc8X8oXq \nKey 15 ---- Kb7sdWp7eb7E7odnWjg7pk7pda7oeva7kb7W7nWp0\nKey 16 ---- Ja6rcVo6da6D6ncmVif6oj6ocZ6nduZ6ja6V6mVo9\nKey 17 ---- IZ5qbUn5cZ5C5mblUhe5ni5nbY5mctY5iZ5U5lUn8\nKey 18 ---- HY4paTm4bY4B4lakTgd4mh4maX4lbsX4hY4T4kTm7\nKey 19 ---- GX3oZSl3aX3A3kZjSfc3lg3lZW3karW3gX3S3jSl6\nKey 20 ---- FW2nYRk2ZW2.2jYiReb2kf2kYV2jZqV2fW2R2iRk5\nKey 21 ---- EV1mXQj1YV1?1iXhQda1je1jXU1iYpU1eV1Q1hQj4\nKey 22 ---- DUzlWPizXUz!zhWgPcZzidziWTzhXoTzdUzPzgPi3\nKey 23 ---- CTykVOhyWTy ygVfObYyhcyhVSygWnSycTyOyfOh2\nKey 24 ---- BSxjUNgxVSx0xfUeNaXxgbxgURxfVmRxbSxNxeNg1\nKey 25 ---- ARwiTMfwURw9weTdMZWwfawfTQweUlQwaRwMwdMfz\nKey 26 ---- .QvhSLevTQv8vdScLYVveZveSPvdTkPvZQvLvcLey\nKey 27 ---- ?PugRKduSPu7ucRbKXUudYudROucSjOuYPuKubKdx\nKey 28 ---- !OtfQJctROt6tbQaJWTtcXtcQNtbRiNtXOtJtaJcw\nKey 29 ----  NsePIbsQNs5saPZIVSsbWsbPMsaQhMsWNsIsZIbv\nKey 30 ---- 0MrdOHarPMr4rZOYHURraVraOLrZPgLrVMrHrYHau\nKey 31 ---- 9LqcNGZqOLq3qYNXGTQqZUqZNKqYOfKqULqGqXGZt\nKey 32 ---- 8KpbMFYpNKp2pXMWFSPpYTpYMJpXNeJpTKpFpWFYs\nKey 33 ---- 7JoaLEXoMJo1oWLVEROoXSoXLIoWMdIoSJoEoVEXr\nKey 34 ---- 6InZKDWnLInznVKUDQNnWRnWKHnVLcHnRInDnUDWq\nKey 35 ---- 5HmYJCVmKHmymUJTCPMmVQmVJGmUKbGmQHmCmTCVp\nKey 36 ---- 4GlXIBUlJGlxlTISBOLlUPlUIFlTJaFlPGlBlSBUo\nKey 37 ---- 3FkWHATkIFkwkSHRANKkTOkTHEkSIZEkOFkAkRATn\nKey 38 ---- 2EjVG.SjHEjvjRGQ.MJjSNjSGDjRHYDjNEj.jQ.Sm\nKey 39 ---- 1DiUF?RiGDiuiQFP?LIiRMiRFCiQGXCiMDi?iP?Rl\nKey 40 ---- zChTE!QhFChthPEO!KHhQLhQEBhPFWBhLCh!hO!Qk\nKey 41 ---- yBgSD PgEBgsgODN JGgPKgPDAgOEVAgKBg gN Pj\nKey 42 ---- xAfRC0OfDAfrfNCM0IFfOJfOC.fNDU.fJAf0fM0Oi\nKey 43 ---- w.eQB9NeC.eqeMBL9HEeNIeNB?eMCT?eI.e9eL9Nh\nKey 44 ---- v?dPA8MdB?dpdLAK8GDdMHdMA!dLBS!dH?d8dK8Mg\nKey 45 ---- u!cO.7LcA!cocK.J7FCcLGcL. cKAR cG!c7cJ7Lf\nKey 46 ---- t bN?6Kb. bnbJ?I6EBbKFbK?0bJ.Q0bF b6bI6Ke\nKey 47 ---- s0aM!5Ja?0amaI!H5DAaJEaJ!9aI?P9aE0a5aH5Jd\nKey 48 ---- r9ZL 4IZ!9ZlZH G4C.ZIDZI 8ZH!O8ZD9Z4ZG4Ic\nKey 49 ---- q8YK03HY 8YkYG0F3B?YHCYH07YG N7YC8Y3YF3Hb\nKey 50 ---- p7XJ92GX07XjXF9E2A!XGBXG96XF0M6XB7X2XE2Ga\nKey 51 ---- o6WI81FW96WiWE8D1. WFAWF85WE9L5WA6W1WD1FZ\nKey 52 ---- n5VH7zEV85VhVD7Cz?0VE.VE74VD8K4V.5VzVCzEY\nKey 53 ---- m4UG6yDU74UgUC6By!9UD?UD63UC7J3U?4UyUByDX\nKey 54 ---- l3TF5xCT63TfTB5Ax 8TC!TC52TB6I2T!3TxTAxCW\nKey 55 ---- k2SE4wBS52SeSA4.w07SB SB41SA5H1S 2SwS.wBV\nKey 56 ---- j1RD3vAR41RdR.3?v96RA0RA3zR.4GzR01RvR?vAU\nKey 57 ---- izQC2u.Q3zQcQ?2!u85Q.9Q.2yQ?3FyQ9zQuQ!u.T\nKey 58 ---- hyPB1t?P2yPbP!1 t74P?8P?1xP!2ExP8yPtP t?S\nKey 59 ---- gxOAzs!O1xOaO z0s63O!7O!zwO 1DwO7xOsO0s!R\nKey 60 ---- fwN.yr NzwNZN0y9r52N 6N yvN0zCvN6wNrN9r Q\nKey 61 ---- evM?xq0MyvMYM9x8q41M05M0xuM9yBuM5vMqM8q0P\nKey 62 ---- duL!wp9LxuLXL8w7p3zL94L9wtL8xAtL4uLpL7p9O\nKey 63 ---- ctK vo8KwtKWK7v6o2yK83K8vsK7w.sK3tKoK6o8N\nKey 64 ---- bsJ0un7JvsJVJ6u5n1xJ72J7urJ6v?rJ2sJnJ5n7M\nKey 65 ---- arI9tm6IurIUI5t4mzwI61I6tqI5u!qI1rImI4m6L\n"
     ]
    }
   ],
   "source": [
    "message = 'ZqH8sl5HtqHTH4s3lyvH5zH5spH4t pHzqHlH3l5K'\n",
    "symbols = 'ABCDEFGHIJKLMNOPQRSTUVWXYZabcdefghijklmnopqrstuvwxyz1234567890 !?.'\n",
    "msg = []\n",
    "# Loop through every possible key:\n",
    "for key in range(len(symbols)):\n",
    "    translated_message = ''\n",
    "\n",
    "    for symbol in message:\n",
    "        if symbol in symbols:\n",
    "            symbolIndex = symbols.find(symbol)\n",
    "            translatedIndex = symbolIndex - key\n",
    "\n",
    "            if translatedIndex < 0:\n",
    "                translatedIndex = translatedIndex + len(symbols)\n",
    "\n",
    "            translated_message = translated_message + symbols[translatedIndex]\n",
    "\n",
    "        else:\n",
    "            translated_message = translated_message + symbol\n",
    "\n",
    "    msg.append(translated_message)\n",
    "n = 0\n",
    "for i in msg:\n",
    "    print('Key', n, '----', i)\n",
    "    n += 1"
   ]
  },
  {
   "source": [
    "<p style=\"font-family:courier;color:#2497f0;font-size: 40px;\">Key is 11</p><hr>"
   ],
   "cell_type": "markdown",
   "metadata": {}
  },
  {
   "source": [
    "<h1>Zfbi,!tif!xpvme!qspcbcmz!fbu!nfA</h1>"
   ],
   "cell_type": "markdown",
   "metadata": {}
  },
  {
   "cell_type": "code",
   "execution_count": 28,
   "metadata": {},
   "outputs": [
    {
     "output_type": "stream",
     "name": "stdout",
     "text": [
      "Key 0 ---- Zfbi,!tif!xpvme!qspcbcmz!fbu!nfA\nKey 1 ---- Yeah, she would probably eat me.\nKey 2 ---- XdZg,0rgd0vntkc0oqnaZakx0dZs0ld?\nKey 3 ---- WcYf,9qfc9umsjb9npmZYZjw9cYr9kc!\nKey 4 ---- VbXe,8peb8tlria8molYXYiv8bXq8jb \nKey 5 ---- UaWd,7oda7skqhZ7lnkXWXhu7aWp7ia0\nKey 6 ---- TZVc,6ncZ6rjpgY6kmjWVWgt6ZVo6hZ9\nKey 7 ---- SYUb,5mbY5qiofX5jliVUVfs5YUn5gY8\nKey 8 ---- RXTa,4laX4phneW4ikhUTUer4XTm4fX7\nKey 9 ---- QWSZ,3kZW3ogmdV3hjgTSTdq3WSl3eW6\nKey 10 ---- PVRY,2jYV2nflcU2gifSRScp2VRk2dV5\nKey 11 ---- OUQX,1iXU1mekbT1fheRQRbo1UQj1cU4\nKey 12 ---- NTPW,zhWTzldjaSzegdQPQanzTPizbT3\nKey 13 ---- MSOV,ygVSykciZRydfcPOPZmySOhyaS2\nKey 14 ---- LRNU,xfURxjbhYQxcebONOYlxRNgxZR1\nKey 15 ---- KQMT,weTQwiagXPwbdaNMNXkwQMfwYQz\nKey 16 ---- JPLS,vdSPvhZfWOvacZMLMWjvPLevXPy\nKey 17 ---- IOKR,ucROugYeVNuZbYLKLViuOKduWOx\nKey 18 ---- HNJQ,tbQNtfXdUMtYaXKJKUhtNJctVNw\nKey 19 ---- GMIP,saPMseWcTLsXZWJIJTgsMIbsUMv\nKey 20 ---- FLHO,rZOLrdVbSKrWYVIHISfrLHarTLu\nKey 21 ---- EKGN,qYNKqcUaRJqVXUHGHReqKGZqSKt\nKey 22 ---- DJFM,pXMJpbTZQIpUWTGFGQdpJFYpRJs\nKey 23 ---- CIEL,oWLIoaSYPHoTVSFEFPcoIEXoQIr\nKey 24 ---- BHDK,nVKHnZRXOGnSUREDEObnHDWnPHq\nKey 25 ---- AGCJ,mUJGmYQWNFmRTQDCDNamGCVmOGp\nKey 26 ---- .FBI,lTIFlXPVMElQSPCBCMZlFBUlNFo\nKey 27 ---- ?EAH,kSHEkWOULDkPROBABLYkEATkMEn\nKey 28 ---- !D.G,jRGDjVNTKCjOQNA.AKXjD.SjLDm\nKey 29 ----  C?F,iQFCiUMSJBiNPM.?.JWiC?RiKCl\nKey 30 ---- 0B!E,hPEBhTLRIAhMOL?!?IVhB!QhJBk\nKey 31 ---- 9A D,gODAgSKQH.gLNK! !HUgA PgIAj\nKey 32 ---- 8.0C,fNC.fRJPG?fKMJ 0 GTf.0OfH.i\nKey 33 ---- 7?9B,eMB?eQIOF!eJLI090FSe?9NeG?h\nKey 34 ---- 6!8A,dLA!dPHNE dIKH989ERd!8MdF!g\nKey 35 ---- 5 7.,cK. cOGMD0cHJG878DQc 7LcE f\nKey 36 ---- 406?,bJ?0bNFLC9bGIF767CPb06KbD0e\nKey 37 ---- 395!,aI!9aMEKB8aFHE656BOa95JaC9d\nKey 38 ---- 284 ,ZH 8ZLDJA7ZEGD545ANZ84IZB8c\nKey 39 ---- 1730,YG07YKCI.6YDFC434.MY73HYA7b\nKey 40 ---- z629,XF96XJBH?5XCEB323?LX62GX.6a\nKey 41 ---- y518,WE85WIAG!4WBDA212!KW51FW?5Z\nKey 42 ---- x4z7,VD74VH.F 3VAC.1z1 JV4zEV!4Y\nKey 43 ---- w3y6,UC63UG?E02U.B?zyz0IU3yDU 3X\nKey 44 ---- v2x5,TB52TF!D91T?A!yxy9HT2xCT02W\nKey 45 ---- u1w4,SA41SE C8zS!. xwx8GS1wBS91V\nKey 46 ---- tzv3,R.3zRD0B7yR ?0wvw7FRzvAR8zU\nKey 47 ---- syu2,Q?2yQC9A6xQ0!9vuv6EQyu.Q7yT\nKey 48 ---- rxt1,P!1xPB8.5wP9 8utu5DPxt?P6xS\nKey 49 ---- qwsz,O zwOA7?4vO807tst4COws!O5wR\nKey 50 ---- pvry,N0yvN.6!3uN796srs3BNvr N4vQ\nKey 51 ---- ouqx,M9xuM?5 2tM685rqr2AMuq0M3uP\nKey 52 ---- ntpw,L8wtL!401sL574qpq1.Ltp9L2tO\nKey 53 ---- msov,K7vsK 39zrK463popz?Kso8K1sN\nKey 54 ---- lrnu,J6urJ028yqJ352onoy!Jrn7JzrM\nKey 55 ---- kqmt,I5tqI917xpI241nmnx Iqm6IyqL\nKey 56 ---- jpls,H4spH8z6woH13zmlmw0Hpl5HxpK\nKey 57 ---- iokr,G3roG7y5vnGz2ylklv9Gok4GwoJ\nKey 58 ---- hnjq,F2qnF6x4umFy1xkjku8Fnj3FvnI\nKey 59 ---- gmip,E1pmE5w3tlExzwjijt7Emi2EumH\nKey 60 ---- flho,DzolD4v2skDwyvihis6Dlh1DtlG\nKey 61 ---- ekgn,CynkC3u1rjCvxuhghr5CkgzCskF\nKey 62 ---- djfm,BxmjB2tzqiBuwtgfgq4BjfyBrjE\nKey 63 ---- ciel,AwliA1syphAtvsfefp3AiexAqiD\nKey 64 ---- bhdk,.vkh.zrxog.suredeo2.hdw.phC\nKey 65 ---- agcj,?ujg?yqwnf?rtqdcdn1?gcv?ogB\n"
     ]
    }
   ],
   "source": [
    "message = 'Zfbi,!tif!xpvme!qspcbcmz!fbu!nfA'\n",
    "symbols = 'ABCDEFGHIJKLMNOPQRSTUVWXYZabcdefghijklmnopqrstuvwxyz1234567890 !?.'\n",
    "msg = []\n",
    "# Loop through every possible key:\n",
    "for key in range(len(symbols)):\n",
    "    translated_message = ''\n",
    "\n",
    "    for symbol in message:\n",
    "        if symbol in symbols:\n",
    "            symbolIndex = symbols.find(symbol)\n",
    "            translatedIndex = symbolIndex - key\n",
    "\n",
    "            if translatedIndex < 0:\n",
    "                translatedIndex = translatedIndex + len(symbols)\n",
    "\n",
    "            translated_message = translated_message + symbols[translatedIndex]\n",
    "\n",
    "        else:\n",
    "            translated_message = translated_message + symbol\n",
    "\n",
    "    msg.append(translated_message)\n",
    "n = 0\n",
    "for i in msg:\n",
    "    print('Key', n, '----', i)\n",
    "    n += 1"
   ]
  },
  {
   "source": [
    "<p style=\"font-family:courier;color:#2497f0;font-size: 40px;\">Key is 1</p><hr>"
   ],
   "cell_type": "markdown",
   "metadata": {}
  }
 ]
}