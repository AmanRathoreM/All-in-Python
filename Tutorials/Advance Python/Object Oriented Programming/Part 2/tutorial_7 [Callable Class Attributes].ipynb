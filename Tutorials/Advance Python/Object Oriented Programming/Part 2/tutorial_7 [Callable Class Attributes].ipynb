{
 "cells": [
  {
   "cell_type": "markdown",
   "metadata": {},
   "source": [
    "<h1 style=\"text-align:center; font-size:160%; font-family:verdana;color:#F44A79;\"><em>Date 26-06-2021</em></h1>"
   ]
  },
  {
   "cell_type": "markdown",
   "metadata": {},
   "source": [
    "<h1 style=\"text-align:center; font-size:360%; font-family:verdana;color:#4A3E76;\"><em>Callable Class Attributes</em></h1>"
   ]
  },
  {
   "cell_type": "code",
   "execution_count": 1,
   "metadata": {},
   "outputs": [],
   "source": [
    "class programe:\n",
    "    language=\"Python\"\n",
    "    version=\"3.9.5\"\n",
    "\n",
    "    def say_hello(name='unknown'):\n",
    "        print(f\"Hello {name.capitalize()}, nice to meet you\\nYour current working programming language is {programe.language} and it\\'s version is {programe.version}\")"
   ]
  },
  {
   "cell_type": "code",
   "execution_count": 2,
   "metadata": {},
   "outputs": [
    {
     "data": {
      "text/plain": [
       "mappingproxy({'__module__': '__main__',\n",
       "              'language': 'Python',\n",
       "              'version': '3.9.5',\n",
       "              'say_hello': <function __main__.programe.say_hello(name='unknown')>,\n",
       "              '__dict__': <attribute '__dict__' of 'programe' objects>,\n",
       "              '__weakref__': <attribute '__weakref__' of 'programe' objects>,\n",
       "              '__doc__': None})"
      ]
     },
     "execution_count": 2,
     "metadata": {},
     "output_type": "execute_result"
    }
   ],
   "source": [
    "programe.__dict__"
   ]
  },
  {
   "cell_type": "code",
   "execution_count": 3,
   "metadata": {},
   "outputs": [
    {
     "name": "stdout",
     "output_type": "stream",
     "text": [
      "Hello Aman, nice to meet you\n",
      "Your current working programming language is Python and it's version is 3.9.5\n"
     ]
    }
   ],
   "source": [
    "programe.say_hello('aMaN')"
   ]
  }
 ],
 "metadata": {
  "interpreter": {
   "hash": "9126ecc556deeb7272889043399b8f6798b483cbe73aa3a147cc338a8659b205"
  },
  "kernelspec": {
   "display_name": "Python 3",
   "language": "python",
   "name": "python3"
  },
  "language_info": {
   "codemirror_mode": {
    "name": "ipython",
    "version": 3
   },
   "file_extension": ".py",
   "mimetype": "text/x-python",
   "name": "python",
   "nbconvert_exporter": "python",
   "pygments_lexer": "ipython3",
   "version": "3.8.5"
  }
 },
 "nbformat": 4,
 "nbformat_minor": 2
}
